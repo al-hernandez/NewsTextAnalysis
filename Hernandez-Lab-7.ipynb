{
 "cells": [
  {
   "cell_type": "markdown",
   "id": "d0e2eaa7",
   "metadata": {},
   "source": [
    "# Week 7 Lab: Text Analytics"
   ]
  },
  {
   "cell_type": "code",
   "execution_count": 1,
   "id": "8bff3a3c",
   "metadata": {},
   "outputs": [],
   "source": [
    "import pandas as pd\n",
    "import numpy as np\n",
    "import matplotlib.pyplot as plt\n",
    "import seaborn as sns\n",
    "\n",
    "import warnings\n",
    "warnings.filterwarnings(\"ignore\")\n",
    "\n",
    "%matplotlib inline\n",
    "sns.set() "
   ]
  },
  {
   "cell_type": "code",
   "execution_count": 2,
   "id": "a4b848ba",
   "metadata": {},
   "outputs": [
    {
     "name": "stdout",
     "output_type": "stream",
     "text": [
      "id,news,type\r\n",
      "0,\"UK economy facing 'major risks'\r\n",
      " \r\n",
      " The UK manufacturing sector will continue to face \"\"serious challenges\"\" over the next two years, the British Chamber of Commerce (BCC) has said.\r\n",
      " \r\n",
      " The group's quarterly survey of companies found exports had picked up in the last three months of 2004 to their best levels in eight years. The rise came despite exchange rates being cited as a major concern. However, the BCC found the whole UK economy still faced \"\"major risks\"\" and warned that growth is set to slow. It recently forecast economic growth will slow from more than 3% in 2004 to a little below 2.5% in both 2005 and 2006.\r\n",
      " \r\n",
      " Manufacturers' domestic sales growth fell back slightly in the quarter, the survey of 5,196 firms found. Employment in manufacturing also fell and job expectations were at their lowest level for a year.\r\n",
      " \r\n",
      " \"\"Despite some positive news for the export sector, there are worrying signs for manufacturing,\"\" the BCC said. \"\"These results reinforce our concern over the sector's persistent inability to sustain recovery.\"\" The outlook for the service sector was \"\"uncertain\"\" despite an increase in exports and orders over the quarter, the BCC noted.\r\n"
     ]
    }
   ],
   "source": [
    "!head assign_wk7/bbc.csv"
   ]
  },
  {
   "cell_type": "code",
   "execution_count": 3,
   "id": "135f043f",
   "metadata": {},
   "outputs": [],
   "source": [
    "# loading the data set\n",
    "bbc_df = pd.read_csv('assign_wk7/bbc.csv')"
   ]
  },
  {
   "cell_type": "code",
   "execution_count": 4,
   "id": "a56d0773",
   "metadata": {},
   "outputs": [
    {
     "data": {
      "text/html": [
       "<div>\n",
       "<style scoped>\n",
       "    .dataframe tbody tr th:only-of-type {\n",
       "        vertical-align: middle;\n",
       "    }\n",
       "\n",
       "    .dataframe tbody tr th {\n",
       "        vertical-align: top;\n",
       "    }\n",
       "\n",
       "    .dataframe thead th {\n",
       "        text-align: right;\n",
       "    }\n",
       "</style>\n",
       "<table border=\"1\" class=\"dataframe\">\n",
       "  <thead>\n",
       "    <tr style=\"text-align: right;\">\n",
       "      <th></th>\n",
       "      <th>id</th>\n",
       "      <th>news</th>\n",
       "      <th>type</th>\n",
       "    </tr>\n",
       "  </thead>\n",
       "  <tbody>\n",
       "    <tr>\n",
       "      <th>0</th>\n",
       "      <td>0</td>\n",
       "      <td>UK economy facing 'major risks'\\n \\n The UK ma...</td>\n",
       "      <td>business</td>\n",
       "    </tr>\n",
       "    <tr>\n",
       "      <th>1</th>\n",
       "      <td>1</td>\n",
       "      <td>Aids and climate top Davos agenda\\n \\n Climate...</td>\n",
       "      <td>business</td>\n",
       "    </tr>\n",
       "    <tr>\n",
       "      <th>2</th>\n",
       "      <td>2</td>\n",
       "      <td>Asian quake hits European shares\\n \\n Shares i...</td>\n",
       "      <td>business</td>\n",
       "    </tr>\n",
       "    <tr>\n",
       "      <th>3</th>\n",
       "      <td>3</td>\n",
       "      <td>India power shares jump on debut\\n \\n Shares i...</td>\n",
       "      <td>business</td>\n",
       "    </tr>\n",
       "    <tr>\n",
       "      <th>4</th>\n",
       "      <td>4</td>\n",
       "      <td>Lacroix label bought by US firm\\n \\n Luxury go...</td>\n",
       "      <td>business</td>\n",
       "    </tr>\n",
       "    <tr>\n",
       "      <th>5</th>\n",
       "      <td>5</td>\n",
       "      <td>Insurance bosses plead guilty\\n \\n Another thr...</td>\n",
       "      <td>business</td>\n",
       "    </tr>\n",
       "    <tr>\n",
       "      <th>6</th>\n",
       "      <td>6</td>\n",
       "      <td>Turkey-Iran mobile deal 'at risk'\\n \\n Turkey'...</td>\n",
       "      <td>business</td>\n",
       "    </tr>\n",
       "    <tr>\n",
       "      <th>7</th>\n",
       "      <td>7</td>\n",
       "      <td>Parmalat to return to stockmarket\\n \\n Parmala...</td>\n",
       "      <td>business</td>\n",
       "    </tr>\n",
       "    <tr>\n",
       "      <th>8</th>\n",
       "      <td>8</td>\n",
       "      <td>WorldCom director admits lying\\n \\n The former...</td>\n",
       "      <td>business</td>\n",
       "    </tr>\n",
       "    <tr>\n",
       "      <th>9</th>\n",
       "      <td>9</td>\n",
       "      <td>Ebbers denies WorldCom fraud\\n \\n Former World...</td>\n",
       "      <td>business</td>\n",
       "    </tr>\n",
       "  </tbody>\n",
       "</table>\n",
       "</div>"
      ],
      "text/plain": [
       "   id                                               news      type\n",
       "0   0  UK economy facing 'major risks'\\n \\n The UK ma...  business\n",
       "1   1  Aids and climate top Davos agenda\\n \\n Climate...  business\n",
       "2   2  Asian quake hits European shares\\n \\n Shares i...  business\n",
       "3   3  India power shares jump on debut\\n \\n Shares i...  business\n",
       "4   4  Lacroix label bought by US firm\\n \\n Luxury go...  business\n",
       "5   5  Insurance bosses plead guilty\\n \\n Another thr...  business\n",
       "6   6  Turkey-Iran mobile deal 'at risk'\\n \\n Turkey'...  business\n",
       "7   7  Parmalat to return to stockmarket\\n \\n Parmala...  business\n",
       "8   8  WorldCom director admits lying\\n \\n The former...  business\n",
       "9   9  Ebbers denies WorldCom fraud\\n \\n Former World...  business"
      ]
     },
     "execution_count": 4,
     "metadata": {},
     "output_type": "execute_result"
    }
   ],
   "source": [
    "bbc_df.head(10)"
   ]
  },
  {
   "cell_type": "markdown",
   "id": "c72891e5",
   "metadata": {},
   "source": [
    "## 1. Preparation of the text data for analysis"
   ]
  },
  {
   "cell_type": "code",
   "execution_count": 16,
   "id": "b8997bef",
   "metadata": {},
   "outputs": [
    {
     "name": "stdout",
     "output_type": "stream",
     "text": [
      "India power shares jump on debut\n",
      " \n",
      " Shares in India's largest power producer, National Thermal Power Corp (NTPC) have risen 13% on their stock market debut.\n",
      " \n",
      " The government's partial sell-off of NTPC is part of a controversial programme to privatise state-run firms. The 865 million share offer, a mix of new shares and sales by the government, raised 54bn rupees($1.2bn). It was India's second $1bn stock debut in three months, coming after the flotation by software firm Tata. The share offer was eleven times oversubscribed. \"It is a good investment bet,\" said Suhas Naik, an investment analyst from ING Mutual Fund. \"Power needs in India are set to rise and NTPC will benefit from that.\" Analysts say the success of the NTPC flotation would encourage the government to reduce stakes in more power companies. NTPC has said it will use the money from the share sale to feed the growing needs of the country's energy-starved economy. The firm is the largest utility company in India, and the sixth largest power producer in the world.\n",
      "\n"
     ]
    }
   ],
   "source": [
    "# view one news entry\n",
    "print(bbc_df.iloc[3]['news'])"
   ]
  },
  {
   "cell_type": "code",
   "execution_count": 5,
   "id": "7d3bd70e",
   "metadata": {},
   "outputs": [],
   "source": [
    "# drop the column id\n",
    "bbc_df.drop('id', axis=1, inplace=True)"
   ]
  },
  {
   "cell_type": "code",
   "execution_count": 6,
   "id": "ee389b67",
   "metadata": {},
   "outputs": [
    {
     "name": "stdout",
     "output_type": "stream",
     "text": [
      "<class 'pandas.core.frame.DataFrame'>\n",
      "RangeIndex: 2225 entries, 0 to 2224\n",
      "Data columns (total 2 columns):\n",
      " #   Column  Non-Null Count  Dtype \n",
      "---  ------  --------------  ----- \n",
      " 0   news    2225 non-null   object\n",
      " 1   type    2225 non-null   object\n",
      "dtypes: object(2)\n",
      "memory usage: 34.9+ KB\n"
     ]
    }
   ],
   "source": [
    "bbc_df.info()"
   ]
  },
  {
   "cell_type": "code",
   "execution_count": 8,
   "id": "f45e2398",
   "metadata": {},
   "outputs": [
    {
     "data": {
      "text/html": [
       "<div>\n",
       "<style scoped>\n",
       "    .dataframe tbody tr th:only-of-type {\n",
       "        vertical-align: middle;\n",
       "    }\n",
       "\n",
       "    .dataframe tbody tr th {\n",
       "        vertical-align: top;\n",
       "    }\n",
       "\n",
       "    .dataframe thead th {\n",
       "        text-align: right;\n",
       "    }\n",
       "</style>\n",
       "<table border=\"1\" class=\"dataframe\">\n",
       "  <thead>\n",
       "    <tr style=\"text-align: right;\">\n",
       "      <th></th>\n",
       "      <th>news</th>\n",
       "      <th>type</th>\n",
       "      <th>clean_text</th>\n",
       "    </tr>\n",
       "  </thead>\n",
       "  <tbody>\n",
       "    <tr>\n",
       "      <th>0</th>\n",
       "      <td>UK economy facing 'major risks'\\n \\n The UK ma...</td>\n",
       "      <td>business</td>\n",
       "      <td>uk economy facing 'major risks' the uk manufac...</td>\n",
       "    </tr>\n",
       "    <tr>\n",
       "      <th>1</th>\n",
       "      <td>Aids and climate top Davos agenda\\n \\n Climate...</td>\n",
       "      <td>business</td>\n",
       "      <td>aids and climate top davos agenda climate chan...</td>\n",
       "    </tr>\n",
       "    <tr>\n",
       "      <th>2</th>\n",
       "      <td>Asian quake hits European shares\\n \\n Shares i...</td>\n",
       "      <td>business</td>\n",
       "      <td>asian quake hits european shares shares in eur...</td>\n",
       "    </tr>\n",
       "    <tr>\n",
       "      <th>3</th>\n",
       "      <td>India power shares jump on debut\\n \\n Shares i...</td>\n",
       "      <td>business</td>\n",
       "      <td>india power shares jump on debut shares in ind...</td>\n",
       "    </tr>\n",
       "    <tr>\n",
       "      <th>4</th>\n",
       "      <td>Lacroix label bought by US firm\\n \\n Luxury go...</td>\n",
       "      <td>business</td>\n",
       "      <td>lacroix label bought by us firm luxury goods g...</td>\n",
       "    </tr>\n",
       "    <tr>\n",
       "      <th>5</th>\n",
       "      <td>Insurance bosses plead guilty\\n \\n Another thr...</td>\n",
       "      <td>business</td>\n",
       "      <td>insurance bosses plead guilty another three us...</td>\n",
       "    </tr>\n",
       "    <tr>\n",
       "      <th>6</th>\n",
       "      <td>Turkey-Iran mobile deal 'at risk'\\n \\n Turkey'...</td>\n",
       "      <td>business</td>\n",
       "      <td>turkey-iran mobile deal 'at risk' turkey's inv...</td>\n",
       "    </tr>\n",
       "    <tr>\n",
       "      <th>7</th>\n",
       "      <td>Parmalat to return to stockmarket\\n \\n Parmala...</td>\n",
       "      <td>business</td>\n",
       "      <td>parmalat to return to stockmarket parmalat, th...</td>\n",
       "    </tr>\n",
       "    <tr>\n",
       "      <th>8</th>\n",
       "      <td>WorldCom director admits lying\\n \\n The former...</td>\n",
       "      <td>business</td>\n",
       "      <td>worldcom director admits lying the former chie...</td>\n",
       "    </tr>\n",
       "    <tr>\n",
       "      <th>9</th>\n",
       "      <td>Ebbers denies WorldCom fraud\\n \\n Former World...</td>\n",
       "      <td>business</td>\n",
       "      <td>ebbers denies worldcom fraud former worldcom c...</td>\n",
       "    </tr>\n",
       "  </tbody>\n",
       "</table>\n",
       "</div>"
      ],
      "text/plain": [
       "                                                news      type  \\\n",
       "0  UK economy facing 'major risks'\\n \\n The UK ma...  business   \n",
       "1  Aids and climate top Davos agenda\\n \\n Climate...  business   \n",
       "2  Asian quake hits European shares\\n \\n Shares i...  business   \n",
       "3  India power shares jump on debut\\n \\n Shares i...  business   \n",
       "4  Lacroix label bought by US firm\\n \\n Luxury go...  business   \n",
       "5  Insurance bosses plead guilty\\n \\n Another thr...  business   \n",
       "6  Turkey-Iran mobile deal 'at risk'\\n \\n Turkey'...  business   \n",
       "7  Parmalat to return to stockmarket\\n \\n Parmala...  business   \n",
       "8  WorldCom director admits lying\\n \\n The former...  business   \n",
       "9  Ebbers denies WorldCom fraud\\n \\n Former World...  business   \n",
       "\n",
       "                                          clean_text  \n",
       "0  uk economy facing 'major risks' the uk manufac...  \n",
       "1  aids and climate top davos agenda climate chan...  \n",
       "2  asian quake hits european shares shares in eur...  \n",
       "3  india power shares jump on debut shares in ind...  \n",
       "4  lacroix label bought by us firm luxury goods g...  \n",
       "5  insurance bosses plead guilty another three us...  \n",
       "6  turkey-iran mobile deal 'at risk' turkey's inv...  \n",
       "7  parmalat to return to stockmarket parmalat, th...  \n",
       "8  worldcom director admits lying the former chie...  \n",
       "9  ebbers denies worldcom fraud former worldcom c...  "
      ]
     },
     "execution_count": 8,
     "metadata": {},
     "output_type": "execute_result"
    }
   ],
   "source": [
    "# convert text to lowercase\n",
    "bbc_df['clean_text'] = bbc_df.news.apply(lambda x: \" \".join(x.lower() for x in x.split()))\n",
    "bbc_df.head(10)"
   ]
  },
  {
   "cell_type": "code",
   "execution_count": 9,
   "id": "78c441d6",
   "metadata": {},
   "outputs": [],
   "source": [
    "# search for possible web and email addresses and remove them\n",
    "bbc_df['clean_text'] = bbc_df.clean_text.str.replace('\\S+@\\S+','')\n",
    "bbc_df['clean_text'] = bbc_df.clean_text.str.replace('http\\S+','')\n",
    "bbc_df['clean_text'] = bbc_df.clean_text.str.replace('\\S+.com','')\n",
    "bbc_df['clean_text'] = bbc_df.clean_text.str.replace('\\S+.edu','') "
   ]
  },
  {
   "cell_type": "code",
   "execution_count": 10,
   "id": "bff06c7c",
   "metadata": {},
   "outputs": [
    {
     "data": {
      "text/html": [
       "<div>\n",
       "<style scoped>\n",
       "    .dataframe tbody tr th:only-of-type {\n",
       "        vertical-align: middle;\n",
       "    }\n",
       "\n",
       "    .dataframe tbody tr th {\n",
       "        vertical-align: top;\n",
       "    }\n",
       "\n",
       "    .dataframe thead th {\n",
       "        text-align: right;\n",
       "    }\n",
       "</style>\n",
       "<table border=\"1\" class=\"dataframe\">\n",
       "  <thead>\n",
       "    <tr style=\"text-align: right;\">\n",
       "      <th></th>\n",
       "      <th>news</th>\n",
       "      <th>type</th>\n",
       "      <th>clean_text</th>\n",
       "    </tr>\n",
       "  </thead>\n",
       "  <tbody>\n",
       "    <tr>\n",
       "      <th>0</th>\n",
       "      <td>UK economy facing 'major risks'\\n \\n The UK ma...</td>\n",
       "      <td>business</td>\n",
       "      <td>uk economy facing major risks the uk manufactu...</td>\n",
       "    </tr>\n",
       "    <tr>\n",
       "      <th>1</th>\n",
       "      <td>Aids and climate top Davos agenda\\n \\n Climate...</td>\n",
       "      <td>business</td>\n",
       "      <td>aids and climate top davos agenda climate chan...</td>\n",
       "    </tr>\n",
       "    <tr>\n",
       "      <th>2</th>\n",
       "      <td>Asian quake hits European shares\\n \\n Shares i...</td>\n",
       "      <td>business</td>\n",
       "      <td>asian quake hits european shares shares in eur...</td>\n",
       "    </tr>\n",
       "    <tr>\n",
       "      <th>3</th>\n",
       "      <td>India power shares jump on debut\\n \\n Shares i...</td>\n",
       "      <td>business</td>\n",
       "      <td>india power shares jump on debut shares in ind...</td>\n",
       "    </tr>\n",
       "    <tr>\n",
       "      <th>4</th>\n",
       "      <td>Lacroix label bought by US firm\\n \\n Luxury go...</td>\n",
       "      <td>business</td>\n",
       "      <td>lacroix label bought by us firm luxury goods g...</td>\n",
       "    </tr>\n",
       "    <tr>\n",
       "      <th>5</th>\n",
       "      <td>Insurance bosses plead guilty\\n \\n Another thr...</td>\n",
       "      <td>business</td>\n",
       "      <td>insurance bosses plead guilty another three us...</td>\n",
       "    </tr>\n",
       "    <tr>\n",
       "      <th>6</th>\n",
       "      <td>Turkey-Iran mobile deal 'at risk'\\n \\n Turkey'...</td>\n",
       "      <td>business</td>\n",
       "      <td>turkeyiran mobile deal at risk turkeys investm...</td>\n",
       "    </tr>\n",
       "    <tr>\n",
       "      <th>7</th>\n",
       "      <td>Parmalat to return to stockmarket\\n \\n Parmala...</td>\n",
       "      <td>business</td>\n",
       "      <td>parmalat to return to stockmarket parmalat the...</td>\n",
       "    </tr>\n",
       "    <tr>\n",
       "      <th>8</th>\n",
       "      <td>WorldCom director admits lying\\n \\n The former...</td>\n",
       "      <td>business</td>\n",
       "      <td>director admits lying the former chief financ...</td>\n",
       "    </tr>\n",
       "    <tr>\n",
       "      <th>9</th>\n",
       "      <td>Ebbers denies WorldCom fraud\\n \\n Former World...</td>\n",
       "      <td>business</td>\n",
       "      <td>ebbers denies  fraud former  chief bernie ebbe...</td>\n",
       "    </tr>\n",
       "  </tbody>\n",
       "</table>\n",
       "</div>"
      ],
      "text/plain": [
       "                                                news      type  \\\n",
       "0  UK economy facing 'major risks'\\n \\n The UK ma...  business   \n",
       "1  Aids and climate top Davos agenda\\n \\n Climate...  business   \n",
       "2  Asian quake hits European shares\\n \\n Shares i...  business   \n",
       "3  India power shares jump on debut\\n \\n Shares i...  business   \n",
       "4  Lacroix label bought by US firm\\n \\n Luxury go...  business   \n",
       "5  Insurance bosses plead guilty\\n \\n Another thr...  business   \n",
       "6  Turkey-Iran mobile deal 'at risk'\\n \\n Turkey'...  business   \n",
       "7  Parmalat to return to stockmarket\\n \\n Parmala...  business   \n",
       "8  WorldCom director admits lying\\n \\n The former...  business   \n",
       "9  Ebbers denies WorldCom fraud\\n \\n Former World...  business   \n",
       "\n",
       "                                          clean_text  \n",
       "0  uk economy facing major risks the uk manufactu...  \n",
       "1  aids and climate top davos agenda climate chan...  \n",
       "2  asian quake hits european shares shares in eur...  \n",
       "3  india power shares jump on debut shares in ind...  \n",
       "4  lacroix label bought by us firm luxury goods g...  \n",
       "5  insurance bosses plead guilty another three us...  \n",
       "6  turkeyiran mobile deal at risk turkeys investm...  \n",
       "7  parmalat to return to stockmarket parmalat the...  \n",
       "8   director admits lying the former chief financ...  \n",
       "9  ebbers denies  fraud former  chief bernie ebbe...  "
      ]
     },
     "execution_count": 10,
     "metadata": {},
     "output_type": "execute_result"
    }
   ],
   "source": [
    "# remove punctuation\n",
    "bbc_df['clean_text'] = bbc_df.clean_text.str.replace('[^\\w\\s]','')\n",
    "bbc_df.head(10)"
   ]
  },
  {
   "cell_type": "code",
   "execution_count": 11,
   "id": "da6689e0",
   "metadata": {},
   "outputs": [],
   "source": [
    "# remove digits\n",
    "bbc_df['clean_text'] = bbc_df.clean_text.str.replace('\\d+','')"
   ]
  },
  {
   "cell_type": "code",
   "execution_count": 14,
   "id": "c59af551",
   "metadata": {},
   "outputs": [
    {
     "name": "stderr",
     "output_type": "stream",
     "text": [
      "[nltk_data] Downloading package stopwords to\n",
      "[nltk_data]     /Users/albertohernandez/nltk_data...\n",
      "[nltk_data]   Unzipping corpora/stopwords.zip.\n"
     ]
    }
   ],
   "source": [
    "# import a list of stopwords\n",
    "import nltk\n",
    "from nltk.corpus import stopwords\n",
    "nltk.download('stopwords')\n",
    "stop = stopwords.words('english')"
   ]
  },
  {
   "cell_type": "code",
   "execution_count": 15,
   "id": "759bfe7d",
   "metadata": {},
   "outputs": [
    {
     "data": {
      "text/html": [
       "<div>\n",
       "<style scoped>\n",
       "    .dataframe tbody tr th:only-of-type {\n",
       "        vertical-align: middle;\n",
       "    }\n",
       "\n",
       "    .dataframe tbody tr th {\n",
       "        vertical-align: top;\n",
       "    }\n",
       "\n",
       "    .dataframe thead th {\n",
       "        text-align: right;\n",
       "    }\n",
       "</style>\n",
       "<table border=\"1\" class=\"dataframe\">\n",
       "  <thead>\n",
       "    <tr style=\"text-align: right;\">\n",
       "      <th></th>\n",
       "      <th>news</th>\n",
       "      <th>type</th>\n",
       "      <th>clean_text</th>\n",
       "    </tr>\n",
       "  </thead>\n",
       "  <tbody>\n",
       "    <tr>\n",
       "      <th>0</th>\n",
       "      <td>UK economy facing 'major risks'\\n \\n The UK ma...</td>\n",
       "      <td>business</td>\n",
       "      <td>uk economy facing major risks uk manufacturing...</td>\n",
       "    </tr>\n",
       "    <tr>\n",
       "      <th>1</th>\n",
       "      <td>Aids and climate top Davos agenda\\n \\n Climate...</td>\n",
       "      <td>business</td>\n",
       "      <td>aids climate top davos agenda climate change f...</td>\n",
       "    </tr>\n",
       "    <tr>\n",
       "      <th>2</th>\n",
       "      <td>Asian quake hits European shares\\n \\n Shares i...</td>\n",
       "      <td>business</td>\n",
       "      <td>asian quake hits european shares shares europe...</td>\n",
       "    </tr>\n",
       "    <tr>\n",
       "      <th>3</th>\n",
       "      <td>India power shares jump on debut\\n \\n Shares i...</td>\n",
       "      <td>business</td>\n",
       "      <td>india power shares jump debut shares indias la...</td>\n",
       "    </tr>\n",
       "    <tr>\n",
       "      <th>4</th>\n",
       "      <td>Lacroix label bought by US firm\\n \\n Luxury go...</td>\n",
       "      <td>business</td>\n",
       "      <td>lacroix label bought us firm luxury goods grou...</td>\n",
       "    </tr>\n",
       "    <tr>\n",
       "      <th>5</th>\n",
       "      <td>Insurance bosses plead guilty\\n \\n Another thr...</td>\n",
       "      <td>business</td>\n",
       "      <td>insurance bosses plead guilty another three us...</td>\n",
       "    </tr>\n",
       "    <tr>\n",
       "      <th>6</th>\n",
       "      <td>Turkey-Iran mobile deal 'at risk'\\n \\n Turkey'...</td>\n",
       "      <td>business</td>\n",
       "      <td>turkeyiran mobile deal risk turkeys investment...</td>\n",
       "    </tr>\n",
       "    <tr>\n",
       "      <th>7</th>\n",
       "      <td>Parmalat to return to stockmarket\\n \\n Parmala...</td>\n",
       "      <td>business</td>\n",
       "      <td>parmalat return stockmarket parmalat italian p...</td>\n",
       "    </tr>\n",
       "    <tr>\n",
       "      <th>8</th>\n",
       "      <td>WorldCom director admits lying\\n \\n The former...</td>\n",
       "      <td>business</td>\n",
       "      <td>director admits lying former chief financial o...</td>\n",
       "    </tr>\n",
       "    <tr>\n",
       "      <th>9</th>\n",
       "      <td>Ebbers denies WorldCom fraud\\n \\n Former World...</td>\n",
       "      <td>business</td>\n",
       "      <td>ebbers denies fraud former chief bernie ebbers...</td>\n",
       "    </tr>\n",
       "  </tbody>\n",
       "</table>\n",
       "</div>"
      ],
      "text/plain": [
       "                                                news      type  \\\n",
       "0  UK economy facing 'major risks'\\n \\n The UK ma...  business   \n",
       "1  Aids and climate top Davos agenda\\n \\n Climate...  business   \n",
       "2  Asian quake hits European shares\\n \\n Shares i...  business   \n",
       "3  India power shares jump on debut\\n \\n Shares i...  business   \n",
       "4  Lacroix label bought by US firm\\n \\n Luxury go...  business   \n",
       "5  Insurance bosses plead guilty\\n \\n Another thr...  business   \n",
       "6  Turkey-Iran mobile deal 'at risk'\\n \\n Turkey'...  business   \n",
       "7  Parmalat to return to stockmarket\\n \\n Parmala...  business   \n",
       "8  WorldCom director admits lying\\n \\n The former...  business   \n",
       "9  Ebbers denies WorldCom fraud\\n \\n Former World...  business   \n",
       "\n",
       "                                          clean_text  \n",
       "0  uk economy facing major risks uk manufacturing...  \n",
       "1  aids climate top davos agenda climate change f...  \n",
       "2  asian quake hits european shares shares europe...  \n",
       "3  india power shares jump debut shares indias la...  \n",
       "4  lacroix label bought us firm luxury goods grou...  \n",
       "5  insurance bosses plead guilty another three us...  \n",
       "6  turkeyiran mobile deal risk turkeys investment...  \n",
       "7  parmalat return stockmarket parmalat italian p...  \n",
       "8  director admits lying former chief financial o...  \n",
       "9  ebbers denies fraud former chief bernie ebbers...  "
      ]
     },
     "execution_count": 15,
     "metadata": {},
     "output_type": "execute_result"
    }
   ],
   "source": [
    "# remove stopwords from text\n",
    "bbc_df['clean_text'] = bbc_df.clean_text.apply(lambda x: \" \".join(w for w in x.split() if w not in stop))\n",
    "bbc_df.head(10)"
   ]
  },
  {
   "cell_type": "markdown",
   "id": "4074d581",
   "metadata": {},
   "source": [
    "To prepare the text data for analysis, the id column was dropped from the dataframe. Additionally, the text was converted to lowercase, and any digits, punctuation, stopwords, web links, and email addresses were removed from the text."
   ]
  },
  {
   "cell_type": "markdown",
   "id": "7547793c",
   "metadata": {},
   "source": [
    "## 2. Word Frequency and Lemmatization"
   ]
  },
  {
   "cell_type": "markdown",
   "id": "e4902d6d",
   "metadata": {},
   "source": [
    "### 2.1 Ten Most and Least Frequently Used Words"
   ]
  },
  {
   "cell_type": "code",
   "execution_count": 17,
   "id": "3ff4601a",
   "metadata": {},
   "outputs": [],
   "source": [
    "# generates a frequency dictionary\n",
    "freq = pd.Series(' '.join(bbc_df.clean_text).split()).value_counts().to_dict()"
   ]
  },
  {
   "cell_type": "code",
   "execution_count": 18,
   "id": "281122ad",
   "metadata": {},
   "outputs": [
    {
     "data": {
      "text/plain": [
       "[('said', 7244),\n",
       " ('mr', 3004),\n",
       " ('would', 2554),\n",
       " ('also', 2141),\n",
       " ('people', 1954),\n",
       " ('new', 1942),\n",
       " ('us', 1901),\n",
       " ('one', 1733),\n",
       " ('year', 1628),\n",
       " ('could', 1505),\n",
       " ('last', 1380),\n",
       " ('first', 1272),\n",
       " ('years', 1223),\n",
       " ('two', 1153),\n",
       " ('time', 1142),\n",
       " ('government', 1020),\n",
       " ('world', 998),\n",
       " ('e', 993),\n",
       " ('uk', 955),\n",
       " ('bn', 940)]"
      ]
     },
     "execution_count": 18,
     "metadata": {},
     "output_type": "execute_result"
    }
   ],
   "source": [
    "# converts dictionary to list\n",
    "list(freq.items())[:20]"
   ]
  },
  {
   "cell_type": "code",
   "execution_count": 19,
   "id": "aff57cd4",
   "metadata": {},
   "outputs": [
    {
     "data": {
      "text/plain": [
       "[('said', 7244),\n",
       " ('mr', 3004),\n",
       " ('would', 2554),\n",
       " ('also', 2141),\n",
       " ('people', 1954),\n",
       " ('new', 1942),\n",
       " ('us', 1901),\n",
       " ('one', 1733),\n",
       " ('year', 1628),\n",
       " ('could', 1505),\n",
       " ('last', 1380),\n",
       " ('first', 1272),\n",
       " ('years', 1223),\n",
       " ('two', 1153),\n",
       " ('time', 1142),\n",
       " ('government', 1020),\n",
       " ('world', 998),\n",
       " ('uk', 955),\n",
       " ('bn', 940),\n",
       " ('make', 917)]"
      ]
     },
     "execution_count": 19,
     "metadata": {},
     "output_type": "execute_result"
    }
   ],
   "source": [
    "# removes every word whose length is not greater than one\n",
    "bbc_df['clean_text'] = bbc_df.clean_text.apply(lambda x: \" \".join(x for x in x.split() if len(x) > 1))\n",
    "\n",
    "freq = pd.Series(' '.join(bbc_df.clean_text).split()).value_counts().to_dict()\n",
    "\n",
    "# displays top 20 most frenquently used words\n",
    "list(freq.items())[:20]"
   ]
  },
  {
   "cell_type": "code",
   "execution_count": 39,
   "id": "0c1b18df",
   "metadata": {},
   "outputs": [
    {
     "data": {
      "text/plain": [
       "[('tysabritreated', 1),\n",
       " ('restating', 1),\n",
       " ('leukoencephalopathy', 1),\n",
       " ('areconsulting', 1),\n",
       " ('multifocal', 1),\n",
       " ('idecs', 1),\n",
       " ('irelandbased', 1),\n",
       " ('shihabeldin', 1),\n",
       " ('adnan', 1),\n",
       " ('mu', 1)]"
      ]
     },
     "execution_count": 39,
     "metadata": {},
     "output_type": "execute_result"
    }
   ],
   "source": [
    "# ten least frequently used words\n",
    "list(freq.items())[-10:]"
   ]
  },
  {
   "cell_type": "markdown",
   "id": "d7e3ea09",
   "metadata": {},
   "source": [
    "### 2.2 Lemmatization"
   ]
  },
  {
   "cell_type": "code",
   "execution_count": 40,
   "id": "b96ba8e1",
   "metadata": {},
   "outputs": [
    {
     "name": "stderr",
     "output_type": "stream",
     "text": [
      "[nltk_data] Downloading package wordnet to\n",
      "[nltk_data]     /Users/albertohernandez/nltk_data...\n"
     ]
    }
   ],
   "source": [
    "import nltk\n",
    "from nltk.stem import WordNetLemmatizer\n",
    "nltk.download('wordnet')\n",
    "\n",
    "#establish the lemmatizer\n",
    "wordnet_lemmatizer = WordNetLemmatizer()"
   ]
  },
  {
   "cell_type": "code",
   "execution_count": 41,
   "id": "c2a3a58f",
   "metadata": {},
   "outputs": [
    {
     "data": {
      "text/html": [
       "<div>\n",
       "<style scoped>\n",
       "    .dataframe tbody tr th:only-of-type {\n",
       "        vertical-align: middle;\n",
       "    }\n",
       "\n",
       "    .dataframe tbody tr th {\n",
       "        vertical-align: top;\n",
       "    }\n",
       "\n",
       "    .dataframe thead th {\n",
       "        text-align: right;\n",
       "    }\n",
       "</style>\n",
       "<table border=\"1\" class=\"dataframe\">\n",
       "  <thead>\n",
       "    <tr style=\"text-align: right;\">\n",
       "      <th></th>\n",
       "      <th>news</th>\n",
       "      <th>type</th>\n",
       "      <th>clean_text</th>\n",
       "    </tr>\n",
       "  </thead>\n",
       "  <tbody>\n",
       "    <tr>\n",
       "      <th>0</th>\n",
       "      <td>UK economy facing 'major risks'\\n \\n The UK ma...</td>\n",
       "      <td>business</td>\n",
       "      <td>uk economy facing major risk uk manufacturing ...</td>\n",
       "    </tr>\n",
       "    <tr>\n",
       "      <th>1</th>\n",
       "      <td>Aids and climate top Davos agenda\\n \\n Climate...</td>\n",
       "      <td>business</td>\n",
       "      <td>aid climate top davos agenda climate change fi...</td>\n",
       "    </tr>\n",
       "    <tr>\n",
       "      <th>2</th>\n",
       "      <td>Asian quake hits European shares\\n \\n Shares i...</td>\n",
       "      <td>business</td>\n",
       "      <td>asian quake hit european share share europe le...</td>\n",
       "    </tr>\n",
       "    <tr>\n",
       "      <th>3</th>\n",
       "      <td>India power shares jump on debut\\n \\n Shares i...</td>\n",
       "      <td>business</td>\n",
       "      <td>india power share jump debut share india large...</td>\n",
       "    </tr>\n",
       "    <tr>\n",
       "      <th>4</th>\n",
       "      <td>Lacroix label bought by US firm\\n \\n Luxury go...</td>\n",
       "      <td>business</td>\n",
       "      <td>lacroix label bought u firm luxury good group ...</td>\n",
       "    </tr>\n",
       "    <tr>\n",
       "      <th>5</th>\n",
       "      <td>Insurance bosses plead guilty\\n \\n Another thr...</td>\n",
       "      <td>business</td>\n",
       "      <td>insurance boss plead guilty another three u in...</td>\n",
       "    </tr>\n",
       "    <tr>\n",
       "      <th>6</th>\n",
       "      <td>Turkey-Iran mobile deal 'at risk'\\n \\n Turkey'...</td>\n",
       "      <td>business</td>\n",
       "      <td>turkeyiran mobile deal risk turkey investment ...</td>\n",
       "    </tr>\n",
       "    <tr>\n",
       "      <th>7</th>\n",
       "      <td>Parmalat to return to stockmarket\\n \\n Parmala...</td>\n",
       "      <td>business</td>\n",
       "      <td>parmalat return stockmarket parmalat italian p...</td>\n",
       "    </tr>\n",
       "    <tr>\n",
       "      <th>8</th>\n",
       "      <td>WorldCom director admits lying\\n \\n The former...</td>\n",
       "      <td>business</td>\n",
       "      <td>director admits lying former chief financial o...</td>\n",
       "    </tr>\n",
       "    <tr>\n",
       "      <th>9</th>\n",
       "      <td>Ebbers denies WorldCom fraud\\n \\n Former World...</td>\n",
       "      <td>business</td>\n",
       "      <td>ebbers denies fraud former chief bernie ebbers...</td>\n",
       "    </tr>\n",
       "  </tbody>\n",
       "</table>\n",
       "</div>"
      ],
      "text/plain": [
       "                                                news      type  \\\n",
       "0  UK economy facing 'major risks'\\n \\n The UK ma...  business   \n",
       "1  Aids and climate top Davos agenda\\n \\n Climate...  business   \n",
       "2  Asian quake hits European shares\\n \\n Shares i...  business   \n",
       "3  India power shares jump on debut\\n \\n Shares i...  business   \n",
       "4  Lacroix label bought by US firm\\n \\n Luxury go...  business   \n",
       "5  Insurance bosses plead guilty\\n \\n Another thr...  business   \n",
       "6  Turkey-Iran mobile deal 'at risk'\\n \\n Turkey'...  business   \n",
       "7  Parmalat to return to stockmarket\\n \\n Parmala...  business   \n",
       "8  WorldCom director admits lying\\n \\n The former...  business   \n",
       "9  Ebbers denies WorldCom fraud\\n \\n Former World...  business   \n",
       "\n",
       "                                          clean_text  \n",
       "0  uk economy facing major risk uk manufacturing ...  \n",
       "1  aid climate top davos agenda climate change fi...  \n",
       "2  asian quake hit european share share europe le...  \n",
       "3  india power share jump debut share india large...  \n",
       "4  lacroix label bought u firm luxury good group ...  \n",
       "5  insurance boss plead guilty another three u in...  \n",
       "6  turkeyiran mobile deal risk turkey investment ...  \n",
       "7  parmalat return stockmarket parmalat italian p...  \n",
       "8  director admits lying former chief financial o...  \n",
       "9  ebbers denies fraud former chief bernie ebbers...  "
      ]
     },
     "execution_count": 41,
     "metadata": {},
     "output_type": "execute_result"
    }
   ],
   "source": [
    "# applies lemmatization to the news entries\n",
    "bbc_df['clean_text'] = bbc_df.clean_text.apply(lambda x: \" \".join(wordnet_lemmatizer.lemmatize(w) for w in x.split()))\n",
    "bbc_df.head(10)"
   ]
  },
  {
   "cell_type": "code",
   "execution_count": 42,
   "id": "0fe81657",
   "metadata": {},
   "outputs": [
    {
     "data": {
      "text/plain": [
       "[('said', 7244),\n",
       " ('mr', 3045),\n",
       " ('year', 2851),\n",
       " ('would', 2554),\n",
       " ('also', 2141),\n",
       " ('people', 2029),\n",
       " ('new', 1942),\n",
       " ('u', 1901),\n",
       " ('one', 1803),\n",
       " ('could', 1505)]"
      ]
     },
     "execution_count": 42,
     "metadata": {},
     "output_type": "execute_result"
    }
   ],
   "source": [
    "freq_2 = pd.Series(' '.join(bbc_df.clean_text).split()).value_counts().to_dict()\n",
    "\n",
    "# displays top 10 most frenquently used words after applying lemmatization\n",
    "list(freq_2.items())[:10]"
   ]
  },
  {
   "cell_type": "code",
   "execution_count": 43,
   "id": "9f098e0e",
   "metadata": {},
   "outputs": [
    {
     "data": {
      "text/plain": [
       "[('cassette', 1),\n",
       " ('grandma', 1),\n",
       " ('verbalicious', 1),\n",
       " ('stereophonics', 1),\n",
       " ('rapport', 1),\n",
       " ('sberbank', 1),\n",
       " ('amos', 1),\n",
       " ('royall', 1),\n",
       " ('blaisdon', 1),\n",
       " ('mu', 1)]"
      ]
     },
     "execution_count": 43,
     "metadata": {},
     "output_type": "execute_result"
    }
   ],
   "source": [
    "# displays top 10 least frenquently used words after applying lemmatization\n",
    "list(freq_2.items())[-10:]"
   ]
  },
  {
   "cell_type": "code",
   "execution_count": 44,
   "id": "f2740047",
   "metadata": {},
   "outputs": [],
   "source": [
    "# once again removes every word whose length is not greater than one\n",
    "bbc_df['clean_text'] = bbc_df.clean_text.apply(lambda x: \" \".join(x for x in x.split() if len(x) > 1))\n"
   ]
  },
  {
   "cell_type": "markdown",
   "id": "537e1dfc",
   "metadata": {},
   "source": [
    "Interestingly, but not suprisingly, lemmatization changed both the contents and order of the most/least used words. For example, the original list of the ten most frequently used words had the word \"year\" in 9th place. After lemmatization, this word moved to 3rd place since both the words \"year\" and \"years\" share the same root word. \n",
    "\n",
    "In regard to the least frequently used words, the contents of the list were drastically altered. The original list conatined words like \"leukoencephalopathy\" and \"restating\", but after lemmatization, their frequency count increased, since they are now grouped with similar words. On the other hand, words such as \"cassette\" do not share a root word, so their frequency count was not increased."
   ]
  },
  {
   "cell_type": "markdown",
   "id": "0a095ced",
   "metadata": {},
   "source": [
    "## 3. Generating a World Cloud for the Text"
   ]
  },
  {
   "cell_type": "code",
   "execution_count": 45,
   "id": "ce73f159",
   "metadata": {},
   "outputs": [],
   "source": [
    "from wordcloud import WordCloud\n",
    "\n",
    "wc = WordCloud(width=1000, height=600, max_words=200).generate_from_frequencies(freq_2)"
   ]
  },
  {
   "cell_type": "code",
   "execution_count": 46,
   "id": "31ea0e2b",
   "metadata": {},
   "outputs": [
    {
     "data": {
      "image/png": "[encoded data removed]",
      "text/plain": [
       "<Figure size 720x720 with 1 Axes>"
      ]
     },
     "metadata": {},
     "output_type": "display_data"
    }
   ],
   "source": [
    "import matplotlib.pyplot as plt\n",
    "\n",
    "plt.figure(figsize=(10, 10))\n",
    "plt.imshow(wc, interpolation='bilinear')\n",
    "plt.axis('off')\n",
    "plt.show()"
   ]
  },
  {
   "cell_type": "markdown",
   "id": "a99c3ecb",
   "metadata": {},
   "source": [
    "The generated word cloud reflects the contents of the top occurring words in the news entries. Therefore, words such as \"government\", \"minister\", and \"market\" are visible. Since the BBC is a news reporting agency, the word \"said\" is the boldest one in the image."
   ]
  },
  {
   "cell_type": "markdown",
   "id": "f5c60d38",
   "metadata": {},
   "source": [
    "## 4. Generating n-grams and Parts of Speech Tagging"
   ]
  },
  {
   "cell_type": "markdown",
   "id": "6c0bfd88",
   "metadata": {},
   "source": [
    "### 4.1 N-grams"
   ]
  },
  {
   "cell_type": "code",
   "execution_count": 47,
   "id": "22b41094",
   "metadata": {},
   "outputs": [],
   "source": [
    "# tokenization\n",
    "tokens = ' '.join(bbc_df.clean_text).split()"
   ]
  },
  {
   "cell_type": "code",
   "execution_count": 48,
   "id": "7895686a",
   "metadata": {},
   "outputs": [],
   "source": [
    "# bigrams\n",
    "ngrams_2 = nltk.bigrams(tokens)"
   ]
  },
  {
   "cell_type": "code",
   "execution_count": 49,
   "id": "8b400a53",
   "metadata": {},
   "outputs": [
    {
     "data": {
      "text/plain": [
       "[(('last', 'year'), 498),\n",
       " (('said', 'mr'), 363),\n",
       " (('told', 'bbc'), 347),\n",
       " (('mr', 'blair'), 334),\n",
       " (('prime', 'minister'), 317),\n",
       " (('mr', 'brown'), 256),\n",
       " (('chief', 'executive'), 204),\n",
       " (('said', 'would'), 193),\n",
       " (('last', 'week'), 188),\n",
       " (('tony', 'blair'), 186),\n",
       " (('mobile', 'phone'), 182),\n",
       " (('bbc', 'news'), 178),\n",
       " (('general', 'election'), 174),\n",
       " (('new', 'york'), 167),\n",
       " (('six', 'nation'), 162),\n",
       " (('bn', 'bn'), 162),\n",
       " (('year', 'ago'), 160),\n",
       " (('mr', 'howard'), 159),\n",
       " (('liberal', 'democrat'), 156),\n",
       " (('number', 'one'), 146)]"
      ]
     },
     "execution_count": 49,
     "metadata": {},
     "output_type": "execute_result"
    }
   ],
   "source": [
    "# bigrams freq distribution\n",
    "freq_2grams = pd.Series(ngrams_2).value_counts().to_dict()\n",
    "list(freq_2grams.items())[:20]"
   ]
  },
  {
   "cell_type": "code",
   "execution_count": 50,
   "id": "ac00f32d",
   "metadata": {},
   "outputs": [],
   "source": [
    "# creating the trigrams\n",
    "ngrams_3 = nltk.trigrams(tokens)"
   ]
  },
  {
   "cell_type": "code",
   "execution_count": 51,
   "id": "b4fe7c69",
   "metadata": {},
   "outputs": [
    {
     "data": {
      "text/plain": [
       "[(('told', 'bbc', 'news'), 147),\n",
       " (('bbc', 'news', 'website'), 97),\n",
       " (('told', 'bbc', 'radio'), 76),\n",
       " (('leader', 'michael', 'howard'), 58),\n",
       " (('mr', 'blair', 'said'), 54),\n",
       " (('million', 'dollar', 'baby'), 52),\n",
       " (('radio', 'today', 'programme'), 49),\n",
       " (('told', 'bbc', 'sport'), 48),\n",
       " (('bbc', 'radio', 'today'), 47),\n",
       " (('tory', 'leader', 'michael'), 41),\n",
       " (('mr', 'howard', 'said'), 41),\n",
       " (('next', 'general', 'election'), 39),\n",
       " (('chancellor', 'gordon', 'brown'), 33),\n",
       " (('prime', 'minister', 'tony'), 32),\n",
       " (('leader', 'charles', 'kennedy'), 32),\n",
       " (('minister', 'tony', 'blair'), 32),\n",
       " (('digital', 'music', 'player'), 30),\n",
       " (('two', 'year', 'ago'), 28),\n",
       " (('mr', 'blair', 'told'), 27),\n",
       " (('world', 'number', 'one'), 27)]"
      ]
     },
     "execution_count": 51,
     "metadata": {},
     "output_type": "execute_result"
    }
   ],
   "source": [
    "# trigrams freq distribution\n",
    "freq_3grams = pd.Series(ngrams_3).value_counts().to_dict()\n",
    "list(freq_3grams.items())[:20]"
   ]
  },
  {
   "cell_type": "markdown",
   "id": "e81e495a",
   "metadata": {},
   "source": [
    "The bigrams show tuples of words that are common, such as \"mobile phone\", \"last week\", and \"prime minister\". On the other hand, trigrams reveal groupings of words that are more specific to the text, and may not commonly occur outside of this particular corpus of text. For example, \"bbc new website\", and \"told bbc sport\" are such phrases. "
   ]
  },
  {
   "cell_type": "markdown",
   "id": "886fca43",
   "metadata": {},
   "source": [
    "### 4.2 Parts of Speech Tagging"
   ]
  },
  {
   "cell_type": "code",
   "execution_count": 53,
   "id": "d114ae10",
   "metadata": {},
   "outputs": [],
   "source": [
    "from nltk.tag import pos_tag"
   ]
  },
  {
   "cell_type": "code",
   "execution_count": 55,
   "id": "51a798ed",
   "metadata": {},
   "outputs": [
    {
     "name": "stderr",
     "output_type": "stream",
     "text": [
      "[nltk_data] Downloading package averaged_perceptron_tagger to\n",
      "[nltk_data]     /Users/albertohernandez/nltk_data...\n",
      "[nltk_data]   Unzipping taggers/averaged_perceptron_tagger.zip.\n"
     ]
    },
    {
     "data": {
      "text/plain": [
       "True"
      ]
     },
     "execution_count": 55,
     "metadata": {},
     "output_type": "execute_result"
    }
   ],
   "source": [
    "nltk.download('averaged_perceptron_tagger')"
   ]
  },
  {
   "cell_type": "code",
   "execution_count": 56,
   "id": "7a40eecd",
   "metadata": {},
   "outputs": [
    {
     "data": {
      "text/plain": [
       "[('uk', 'JJ'),\n",
       " ('economy', 'NN'),\n",
       " ('facing', 'VBG'),\n",
       " ('major', 'JJ'),\n",
       " ('risk', 'NN'),\n",
       " ('uk', 'IN'),\n",
       " ('manufacturing', 'VBG'),\n",
       " ('sector', 'NN'),\n",
       " ('continue', 'VBP'),\n",
       " ('face', 'VBP'),\n",
       " ('serious', 'JJ'),\n",
       " ('challenge', 'NN'),\n",
       " ('next', 'IN'),\n",
       " ('two', 'CD'),\n",
       " ('year', 'NN'),\n",
       " ('british', 'JJ'),\n",
       " ('chamber', 'NN'),\n",
       " ('merce', 'NN'),\n",
       " ('bcc', 'NN'),\n",
       " ('said', 'VBD')]"
      ]
     },
     "execution_count": 56,
     "metadata": {},
     "output_type": "execute_result"
    }
   ],
   "source": [
    "# tagging\n",
    "pos_tags = pos_tag(tokens)\n",
    "pos_tags[:20]"
   ]
  },
  {
   "cell_type": "code",
   "execution_count": 57,
   "id": "55f03f0a",
   "metadata": {},
   "outputs": [
    {
     "data": {
      "text/plain": [
       "Counter({'JJ': 90251,\n",
       "         'NN': 225618,\n",
       "         'VBG': 19788,\n",
       "         'IN': 7891,\n",
       "         'VBP': 14085,\n",
       "         'CD': 6674,\n",
       "         'VBD': 34253,\n",
       "         'NNS': 11796,\n",
       "         'RBS': 129,\n",
       "         'RB': 23162,\n",
       "         'VBN': 12475,\n",
       "         'VB': 10600,\n",
       "         'JJS': 2392,\n",
       "         'JJR': 1764,\n",
       "         'NNP': 993,\n",
       "         'RBR': 1051,\n",
       "         'WP$': 120,\n",
       "         'MD': 5333,\n",
       "         'VBZ': 3096,\n",
       "         'DT': 811,\n",
       "         'CC': 281,\n",
       "         'FW': 865,\n",
       "         'PRP': 250,\n",
       "         'RP': 387,\n",
       "         'WP': 69,\n",
       "         'WRB': 45,\n",
       "         'WDT': 60,\n",
       "         'EX': 69,\n",
       "         'POS': 2,\n",
       "         'NNPS': 3,\n",
       "         'PRP$': 15,\n",
       "         'PDT': 4,\n",
       "         'TO': 2,\n",
       "         'UH': 10})"
      ]
     },
     "execution_count": 57,
     "metadata": {},
     "output_type": "execute_result"
    }
   ],
   "source": [
    "from collections import Counter\n",
    "\n",
    "Counter([j for i,j in pos_tag(tokens)])"
   ]
  },
  {
   "cell_type": "markdown",
   "id": "1ad4476a",
   "metadata": {},
   "source": [
    "The tags NN, RB, and JJ have the highest frequency counts and correspond to singular nouns, adverbs, and adjectives. This writing style is to be expected from a news reporting agency, since it deals with factual events while also trying to make them sensational, hence the high number of adverbs."
   ]
  },
  {
   "cell_type": "markdown",
   "id": "e01272a5",
   "metadata": {},
   "source": [
    "## 5. Creating a Topic Model of the Text"
   ]
  },
  {
   "cell_type": "code",
   "execution_count": 58,
   "id": "7e271ef8",
   "metadata": {},
   "outputs": [
    {
     "name": "stdout",
     "output_type": "stream",
     "text": [
      "[['uk', 'economy', 'facing', 'major', 'risk', 'uk', 'manufacturing', 'sector', 'continue', 'face', 'serious', 'challenge', 'next', 'two', 'year', 'british', 'chamber', 'merce', 'bcc', 'said', 'group', 'quarterly', 'survey', 'panies', 'found', 'export', 'picked', 'last', 'three', 'month', 'best', 'level', 'eight', 'year', 'rise', 'came', 'despite', 'exchange', 'rate', 'cited', 'major', 'concern', 'however', 'bcc', 'found', 'whole', 'uk', 'economy', 'still', 'faced', 'major', 'risk', 'warned', 'growth', 'set', 'slow', 'recently', 'forecast', 'economic', 'growth', 'slow', 'little', 'manufacturer', 'domestic', 'sale', 'growth', 'fell', 'back', 'slightly', 'quarter', 'survey', 'firm', 'found', 'employment', 'manufacturing', 'also', 'fell', 'job', 'expectation', 'lowest', 'level', 'year', 'despite', 'positive', 'news', 'export', 'sector', 'worrying', 'sign', 'manufacturing', 'bcc', 'said', 'result', 'reinforce', 'concern', 'sector', 'persistent', 'inability', 'sustain', 'recovery', 'outlook', 'service', 'sector', 'uncertain', 'despite', 'increase', 'export', 'order', 'quarter', 'bcc', 'noted', 'bcc', 'found', 'confidence', 'increased', 'quarter', 'across', 'manufacturing', 'service', 'sector', 'although', 'overall', 'failed', 'reach', 'level', 'start', 'reduced', 'threat', 'interest', 'rate', 'increase', 'contributed', 'improved', 'confidence', 'said', 'bank', 'england', 'raised', 'interest', 'rate', 'five', 'time', 'november', 'august', 'last', 'year', 'rate', 'kept', 'hold', 'since', 'amid', 'sign', 'falling', 'consumer', 'confidence', 'slowdown', 'output', 'pressure', 'cost', 'margin', 'relentless', 'increase', 'regulation', 'threat', 'higher', 'tax', 'remain', 'serious', 'problem', 'bcc', 'director', 'general', 'david', 'frost', 'said', 'consumer', 'spending', 'set', 'decelerate', 'significantly', 'next', 'month', 'unlikely', 'investment', 'export', 'rise', 'sufficiently', 'strongly', 'pick', 'slack'], ['aid', 'climate', 'top', 'davos', 'agenda', 'climate', 'change', 'fight', 'aid', 'leading', 'list', 'concern', 'first', 'day', 'world', 'economic', 'forum', 'swiss', 'resort', 'davos', 'business', 'political', 'leader', 'around', 'globe', 'listen', 'uk', 'prime', 'minister', 'tony', 'blair', 'opening', 'speech', 'wednesday', 'mr', 'blair', 'focus', 'africa', 'development', 'plan', 'global', 'warming', 'earlier', 'day', 'came', 'update', 'effort', 'million', 'people', 'antiaids', 'drug', 'end', 'world', 'health', 'organisation', 'said', 'people', 'poor', 'country', 'lifeextending', 'drug', 'six', 'month', 'earlier', 'amounting', 'million', 'needed', 'bn', 'funding', 'gap', 'still', 'stood', 'way', 'hitting', 'target', 'said', 'theme', 'stressed', 'mr', 'blair', 'whose', 'attendance', 'announced', 'last', 'minute', 'want', 'dominate', 'uk', 'chairmanship', 'group', 'industrialised', 'state', 'issue', 'discussed', 'fiveday', 'conference', 'range', 'china', 'economic', 'power', 'iraq', 'future', 'sunday', 'election', 'aside', 'mr', 'blair', 'world', 'leader', 'expected', 'attend', 'including', 'french', 'president', 'jacques', 'chirac', 'due', 'speak', 'video', 'link', 'bad', 'weather', 'delayed', 'helicopter', 'south', 'african', 'president', 'thabo', 'mbeki', 'whose', 'arrival', 'delayed', 'ivory', 'coast', 'peace', 'talk', 'ukraine', 'new', 'president', 'viktor', 'yushchenko', 'also', 'newly', 'elected', 'palestinian', 'leader', 'mahmoud', 'abbas', 'showbiz', 'figure', 'also', 'put', 'appearance', 'frontman', 'bono', 'wellknown', 'campaigner', 'trade', 'development', 'issue', 'angelina', 'jolie', 'goodwill', 'campaigner', 'un', 'refugee', 'unlike', 'previous', 'year', 'protest', 'wef', 'expected', 'muted', 'antiglobalisation', 'campaigner', 'called', 'demonstration', 'planned', 'weekend', 'time', 'people', 'expected', 'converge', 'brazilian', 'resort', 'porto', 'alegre', 'world', 'social', 'forum', 'socalled', 'antidavos', 'campaigner', 'globalisation', 'fair', 'trade', 'many', 'cause', 'contrast', 'davos', 'forum', 'dominated', 'business', 'issue', 'outsourcing', 'corporate', 'leadership', 'boss', 'fifth', 'world', 'panies', 'led', 'attend', 'survey', 'published', 'eve', 'conference', 'pricewaterhousecoopers', 'said', 'four', 'ten', 'business', 'leader', 'confident', 'panies', 'would', 'see', 'sale', 'rise', 'asian', 'american', 'executive', 'however', 'much', 'confident', 'european', 'counterpart', 'political', 'discussion', 'focusing', 'iran', 'iraq', 'china', 'likely', 'dominate', 'medium', 'attention']]\n"
     ]
    }
   ],
   "source": [
    "# a list of list of the lemmatized text\n",
    "lem_ls = list(bbc_df.clean_text.apply(lambda x: list(x.split())))\n",
    "print(lem_ls[:2])"
   ]
  },
  {
   "cell_type": "code",
   "execution_count": 59,
   "id": "f43a0338",
   "metadata": {},
   "outputs": [],
   "source": [
    "# Gensim\n",
    "import gensim\n",
    "import gensim.corpora as corpora"
   ]
  },
  {
   "cell_type": "code",
   "execution_count": 60,
   "id": "cd1043b8",
   "metadata": {},
   "outputs": [],
   "source": [
    "# Create  a dictionary\n",
    "id2word = corpora.Dictionary(lem_ls)\n",
    "\n",
    "# Term Document Frequency Corpus\n",
    "corpus = [id2word.doc2bow(post) for post in lem_ls]"
   ]
  },
  {
   "cell_type": "code",
   "execution_count": 61,
   "id": "3f4666c7",
   "metadata": {},
   "outputs": [],
   "source": [
    "# CoherenceModel used to calculate coherence score\n",
    "from gensim.models import CoherenceModel"
   ]
  },
  {
   "cell_type": "code",
   "execution_count": 62,
   "id": "ac76b8f3",
   "metadata": {},
   "outputs": [
    {
     "name": "stdout",
     "output_type": "stream",
     "text": [
      "Calcuting for 2 topics\n"
     ]
    },
    {
     "name": "stderr",
     "output_type": "stream",
     "text": [
      "/Users/albertohernandez/opt/anaconda3/lib/python3.9/site-packages/gensim/similarities/__init__.py:15: UserWarning: The gensim.similarities.levenshtein submodule is disabled, because the optional Levenshtein package <https://pypi.org/project/python-Levenshtein/> is unavailable. Install Levenhstein (e.g. `pip install python-Levenshtein`) to suppress this warning.\n",
      "  warnings.warn(msg)\n",
      "/Users/albertohernandez/opt/anaconda3/lib/python3.9/site-packages/gensim/similarities/__init__.py:15: UserWarning: The gensim.similarities.levenshtein submodule is disabled, because the optional Levenshtein package <https://pypi.org/project/python-Levenshtein/> is unavailable. Install Levenhstein (e.g. `pip install python-Levenshtein`) to suppress this warning.\n",
      "  warnings.warn(msg)\n",
      "/Users/albertohernandez/opt/anaconda3/lib/python3.9/site-packages/gensim/similarities/__init__.py:15: UserWarning: The gensim.similarities.levenshtein submodule is disabled, because the optional Levenshtein package <https://pypi.org/project/python-Levenshtein/> is unavailable. Install Levenhstein (e.g. `pip install python-Levenshtein`) to suppress this warning.\n",
      "  warnings.warn(msg)\n",
      "/Users/albertohernandez/opt/anaconda3/lib/python3.9/site-packages/gensim/similarities/__init__.py:15: UserWarning: The gensim.similarities.levenshtein submodule is disabled, because the optional Levenshtein package <https://pypi.org/project/python-Levenshtein/> is unavailable. Install Levenhstein (e.g. `pip install python-Levenshtein`) to suppress this warning.\n",
      "  warnings.warn(msg)\n",
      "/Users/albertohernandez/opt/anaconda3/lib/python3.9/site-packages/gensim/similarities/__init__.py:15: UserWarning: The gensim.similarities.levenshtein submodule is disabled, because the optional Levenshtein package <https://pypi.org/project/python-Levenshtein/> is unavailable. Install Levenhstein (e.g. `pip install python-Levenshtein`) to suppress this warning.\n",
      "  warnings.warn(msg)\n",
      "/Users/albertohernandez/opt/anaconda3/lib/python3.9/site-packages/gensim/similarities/__init__.py:15: UserWarning: The gensim.similarities.levenshtein submodule is disabled, because the optional Levenshtein package <https://pypi.org/project/python-Levenshtein/> is unavailable. Install Levenhstein (e.g. `pip install python-Levenshtein`) to suppress this warning.\n",
      "  warnings.warn(msg)\n"
     ]
    },
    {
     "name": "stdout",
     "output_type": "stream",
     "text": [
      "Calcuting for 3 topics\n"
     ]
    },
    {
     "name": "stderr",
     "output_type": "stream",
     "text": [
      "/Users/albertohernandez/opt/anaconda3/lib/python3.9/site-packages/gensim/similarities/__init__.py:15: UserWarning: The gensim.similarities.levenshtein submodule is disabled, because the optional Levenshtein package <https://pypi.org/project/python-Levenshtein/> is unavailable. Install Levenhstein (e.g. `pip install python-Levenshtein`) to suppress this warning.\n",
      "  warnings.warn(msg)\n",
      "/Users/albertohernandez/opt/anaconda3/lib/python3.9/site-packages/gensim/similarities/__init__.py:15: UserWarning: The gensim.similarities.levenshtein submodule is disabled, because the optional Levenshtein package <https://pypi.org/project/python-Levenshtein/> is unavailable. Install Levenhstein (e.g. `pip install python-Levenshtein`) to suppress this warning.\n",
      "  warnings.warn(msg)\n",
      "/Users/albertohernandez/opt/anaconda3/lib/python3.9/site-packages/gensim/similarities/__init__.py:15: UserWarning: The gensim.similarities.levenshtein submodule is disabled, because the optional Levenshtein package <https://pypi.org/project/python-Levenshtein/> is unavailable. Install Levenhstein (e.g. `pip install python-Levenshtein`) to suppress this warning.\n",
      "  warnings.warn(msg)\n",
      "/Users/albertohernandez/opt/anaconda3/lib/python3.9/site-packages/gensim/similarities/__init__.py:15: UserWarning: The gensim.similarities.levenshtein submodule is disabled, because the optional Levenshtein package <https://pypi.org/project/python-Levenshtein/> is unavailable. Install Levenhstein (e.g. `pip install python-Levenshtein`) to suppress this warning.\n",
      "  warnings.warn(msg)\n",
      "/Users/albertohernandez/opt/anaconda3/lib/python3.9/site-packages/gensim/similarities/__init__.py:15: UserWarning: The gensim.similarities.levenshtein submodule is disabled, because the optional Levenshtein package <https://pypi.org/project/python-Levenshtein/> is unavailable. Install Levenhstein (e.g. `pip install python-Levenshtein`) to suppress this warning.\n",
      "  warnings.warn(msg)\n",
      "/Users/albertohernandez/opt/anaconda3/lib/python3.9/site-packages/gensim/similarities/__init__.py:15: UserWarning: The gensim.similarities.levenshtein submodule is disabled, because the optional Levenshtein package <https://pypi.org/project/python-Levenshtein/> is unavailable. Install Levenhstein (e.g. `pip install python-Levenshtein`) to suppress this warning.\n",
      "  warnings.warn(msg)\n"
     ]
    },
    {
     "name": "stdout",
     "output_type": "stream",
     "text": [
      "Calcuting for 4 topics\n"
     ]
    },
    {
     "name": "stderr",
     "output_type": "stream",
     "text": [
      "/Users/albertohernandez/opt/anaconda3/lib/python3.9/site-packages/gensim/similarities/__init__.py:15: UserWarning: The gensim.similarities.levenshtein submodule is disabled, because the optional Levenshtein package <https://pypi.org/project/python-Levenshtein/> is unavailable. Install Levenhstein (e.g. `pip install python-Levenshtein`) to suppress this warning.\n",
      "  warnings.warn(msg)\n",
      "/Users/albertohernandez/opt/anaconda3/lib/python3.9/site-packages/gensim/similarities/__init__.py:15: UserWarning: The gensim.similarities.levenshtein submodule is disabled, because the optional Levenshtein package <https://pypi.org/project/python-Levenshtein/> is unavailable. Install Levenhstein (e.g. `pip install python-Levenshtein`) to suppress this warning.\n",
      "  warnings.warn(msg)\n",
      "/Users/albertohernandez/opt/anaconda3/lib/python3.9/site-packages/gensim/similarities/__init__.py:15: UserWarning: The gensim.similarities.levenshtein submodule is disabled, because the optional Levenshtein package <https://pypi.org/project/python-Levenshtein/> is unavailable. Install Levenhstein (e.g. `pip install python-Levenshtein`) to suppress this warning.\n",
      "  warnings.warn(msg)\n",
      "/Users/albertohernandez/opt/anaconda3/lib/python3.9/site-packages/gensim/similarities/__init__.py:15: UserWarning: The gensim.similarities.levenshtein submodule is disabled, because the optional Levenshtein package <https://pypi.org/project/python-Levenshtein/> is unavailable. Install Levenhstein (e.g. `pip install python-Levenshtein`) to suppress this warning.\n",
      "  warnings.warn(msg)\n",
      "/Users/albertohernandez/opt/anaconda3/lib/python3.9/site-packages/gensim/similarities/__init__.py:15: UserWarning: The gensim.similarities.levenshtein submodule is disabled, because the optional Levenshtein package <https://pypi.org/project/python-Levenshtein/> is unavailable. Install Levenhstein (e.g. `pip install python-Levenshtein`) to suppress this warning.\n",
      "  warnings.warn(msg)\n",
      "/Users/albertohernandez/opt/anaconda3/lib/python3.9/site-packages/gensim/similarities/__init__.py:15: UserWarning: The gensim.similarities.levenshtein submodule is disabled, because the optional Levenshtein package <https://pypi.org/project/python-Levenshtein/> is unavailable. Install Levenhstein (e.g. `pip install python-Levenshtein`) to suppress this warning.\n",
      "  warnings.warn(msg)\n"
     ]
    },
    {
     "name": "stdout",
     "output_type": "stream",
     "text": [
      "Calcuting for 5 topics\n"
     ]
    },
    {
     "name": "stderr",
     "output_type": "stream",
     "text": [
      "/Users/albertohernandez/opt/anaconda3/lib/python3.9/site-packages/gensim/similarities/__init__.py:15: UserWarning: The gensim.similarities.levenshtein submodule is disabled, because the optional Levenshtein package <https://pypi.org/project/python-Levenshtein/> is unavailable. Install Levenhstein (e.g. `pip install python-Levenshtein`) to suppress this warning.\n",
      "  warnings.warn(msg)\n",
      "/Users/albertohernandez/opt/anaconda3/lib/python3.9/site-packages/gensim/similarities/__init__.py:15: UserWarning: The gensim.similarities.levenshtein submodule is disabled, because the optional Levenshtein package <https://pypi.org/project/python-Levenshtein/> is unavailable. Install Levenhstein (e.g. `pip install python-Levenshtein`) to suppress this warning.\n",
      "  warnings.warn(msg)\n",
      "/Users/albertohernandez/opt/anaconda3/lib/python3.9/site-packages/gensim/similarities/__init__.py:15: UserWarning: The gensim.similarities.levenshtein submodule is disabled, because the optional Levenshtein package <https://pypi.org/project/python-Levenshtein/> is unavailable. Install Levenhstein (e.g. `pip install python-Levenshtein`) to suppress this warning.\n",
      "  warnings.warn(msg)\n",
      "/Users/albertohernandez/opt/anaconda3/lib/python3.9/site-packages/gensim/similarities/__init__.py:15: UserWarning: The gensim.similarities.levenshtein submodule is disabled, because the optional Levenshtein package <https://pypi.org/project/python-Levenshtein/> is unavailable. Install Levenhstein (e.g. `pip install python-Levenshtein`) to suppress this warning.\n",
      "  warnings.warn(msg)\n",
      "/Users/albertohernandez/opt/anaconda3/lib/python3.9/site-packages/gensim/similarities/__init__.py:15: UserWarning: The gensim.similarities.levenshtein submodule is disabled, because the optional Levenshtein package <https://pypi.org/project/python-Levenshtein/> is unavailable. Install Levenhstein (e.g. `pip install python-Levenshtein`) to suppress this warning.\n",
      "  warnings.warn(msg)\n",
      "/Users/albertohernandez/opt/anaconda3/lib/python3.9/site-packages/gensim/similarities/__init__.py:15: UserWarning: The gensim.similarities.levenshtein submodule is disabled, because the optional Levenshtein package <https://pypi.org/project/python-Levenshtein/> is unavailable. Install Levenhstein (e.g. `pip install python-Levenshtein`) to suppress this warning.\n",
      "  warnings.warn(msg)\n"
     ]
    },
    {
     "name": "stdout",
     "output_type": "stream",
     "text": [
      "Calcuting for 6 topics\n"
     ]
    },
    {
     "name": "stderr",
     "output_type": "stream",
     "text": [
      "/Users/albertohernandez/opt/anaconda3/lib/python3.9/site-packages/gensim/similarities/__init__.py:15: UserWarning: The gensim.similarities.levenshtein submodule is disabled, because the optional Levenshtein package <https://pypi.org/project/python-Levenshtein/> is unavailable. Install Levenhstein (e.g. `pip install python-Levenshtein`) to suppress this warning.\n",
      "  warnings.warn(msg)\n",
      "/Users/albertohernandez/opt/anaconda3/lib/python3.9/site-packages/gensim/similarities/__init__.py:15: UserWarning: The gensim.similarities.levenshtein submodule is disabled, because the optional Levenshtein package <https://pypi.org/project/python-Levenshtein/> is unavailable. Install Levenhstein (e.g. `pip install python-Levenshtein`) to suppress this warning.\n",
      "  warnings.warn(msg)\n",
      "/Users/albertohernandez/opt/anaconda3/lib/python3.9/site-packages/gensim/similarities/__init__.py:15: UserWarning: The gensim.similarities.levenshtein submodule is disabled, because the optional Levenshtein package <https://pypi.org/project/python-Levenshtein/> is unavailable. Install Levenhstein (e.g. `pip install python-Levenshtein`) to suppress this warning.\n",
      "  warnings.warn(msg)\n",
      "/Users/albertohernandez/opt/anaconda3/lib/python3.9/site-packages/gensim/similarities/__init__.py:15: UserWarning: The gensim.similarities.levenshtein submodule is disabled, because the optional Levenshtein package <https://pypi.org/project/python-Levenshtein/> is unavailable. Install Levenhstein (e.g. `pip install python-Levenshtein`) to suppress this warning.\n",
      "  warnings.warn(msg)\n",
      "/Users/albertohernandez/opt/anaconda3/lib/python3.9/site-packages/gensim/similarities/__init__.py:15: UserWarning: The gensim.similarities.levenshtein submodule is disabled, because the optional Levenshtein package <https://pypi.org/project/python-Levenshtein/> is unavailable. Install Levenhstein (e.g. `pip install python-Levenshtein`) to suppress this warning.\n",
      "  warnings.warn(msg)\n",
      "/Users/albertohernandez/opt/anaconda3/lib/python3.9/site-packages/gensim/similarities/__init__.py:15: UserWarning: The gensim.similarities.levenshtein submodule is disabled, because the optional Levenshtein package <https://pypi.org/project/python-Levenshtein/> is unavailable. Install Levenhstein (e.g. `pip install python-Levenshtein`) to suppress this warning.\n",
      "  warnings.warn(msg)\n"
     ]
    },
    {
     "name": "stdout",
     "output_type": "stream",
     "text": [
      "Calcuting for 7 topics\n"
     ]
    },
    {
     "name": "stderr",
     "output_type": "stream",
     "text": [
      "/Users/albertohernandez/opt/anaconda3/lib/python3.9/site-packages/gensim/similarities/__init__.py:15: UserWarning: The gensim.similarities.levenshtein submodule is disabled, because the optional Levenshtein package <https://pypi.org/project/python-Levenshtein/> is unavailable. Install Levenhstein (e.g. `pip install python-Levenshtein`) to suppress this warning.\n",
      "  warnings.warn(msg)\n",
      "/Users/albertohernandez/opt/anaconda3/lib/python3.9/site-packages/gensim/similarities/__init__.py:15: UserWarning: The gensim.similarities.levenshtein submodule is disabled, because the optional Levenshtein package <https://pypi.org/project/python-Levenshtein/> is unavailable. Install Levenhstein (e.g. `pip install python-Levenshtein`) to suppress this warning.\n",
      "  warnings.warn(msg)\n",
      "/Users/albertohernandez/opt/anaconda3/lib/python3.9/site-packages/gensim/similarities/__init__.py:15: UserWarning: The gensim.similarities.levenshtein submodule is disabled, because the optional Levenshtein package <https://pypi.org/project/python-Levenshtein/> is unavailable. Install Levenhstein (e.g. `pip install python-Levenshtein`) to suppress this warning.\n",
      "  warnings.warn(msg)\n",
      "/Users/albertohernandez/opt/anaconda3/lib/python3.9/site-packages/gensim/similarities/__init__.py:15: UserWarning: The gensim.similarities.levenshtein submodule is disabled, because the optional Levenshtein package <https://pypi.org/project/python-Levenshtein/> is unavailable. Install Levenhstein (e.g. `pip install python-Levenshtein`) to suppress this warning.\n",
      "  warnings.warn(msg)\n",
      "/Users/albertohernandez/opt/anaconda3/lib/python3.9/site-packages/gensim/similarities/__init__.py:15: UserWarning: The gensim.similarities.levenshtein submodule is disabled, because the optional Levenshtein package <https://pypi.org/project/python-Levenshtein/> is unavailable. Install Levenhstein (e.g. `pip install python-Levenshtein`) to suppress this warning.\n",
      "  warnings.warn(msg)\n",
      "/Users/albertohernandez/opt/anaconda3/lib/python3.9/site-packages/gensim/similarities/__init__.py:15: UserWarning: The gensim.similarities.levenshtein submodule is disabled, because the optional Levenshtein package <https://pypi.org/project/python-Levenshtein/> is unavailable. Install Levenhstein (e.g. `pip install python-Levenshtein`) to suppress this warning.\n",
      "  warnings.warn(msg)\n"
     ]
    },
    {
     "name": "stdout",
     "output_type": "stream",
     "text": [
      "Calcuting for 8 topics\n"
     ]
    },
    {
     "name": "stderr",
     "output_type": "stream",
     "text": [
      "/Users/albertohernandez/opt/anaconda3/lib/python3.9/site-packages/gensim/similarities/__init__.py:15: UserWarning: The gensim.similarities.levenshtein submodule is disabled, because the optional Levenshtein package <https://pypi.org/project/python-Levenshtein/> is unavailable. Install Levenhstein (e.g. `pip install python-Levenshtein`) to suppress this warning.\n",
      "  warnings.warn(msg)\n",
      "/Users/albertohernandez/opt/anaconda3/lib/python3.9/site-packages/gensim/similarities/__init__.py:15: UserWarning: The gensim.similarities.levenshtein submodule is disabled, because the optional Levenshtein package <https://pypi.org/project/python-Levenshtein/> is unavailable. Install Levenhstein (e.g. `pip install python-Levenshtein`) to suppress this warning.\n",
      "  warnings.warn(msg)\n",
      "/Users/albertohernandez/opt/anaconda3/lib/python3.9/site-packages/gensim/similarities/__init__.py:15: UserWarning: The gensim.similarities.levenshtein submodule is disabled, because the optional Levenshtein package <https://pypi.org/project/python-Levenshtein/> is unavailable. Install Levenhstein (e.g. `pip install python-Levenshtein`) to suppress this warning.\n",
      "  warnings.warn(msg)\n",
      "/Users/albertohernandez/opt/anaconda3/lib/python3.9/site-packages/gensim/similarities/__init__.py:15: UserWarning: The gensim.similarities.levenshtein submodule is disabled, because the optional Levenshtein package <https://pypi.org/project/python-Levenshtein/> is unavailable. Install Levenhstein (e.g. `pip install python-Levenshtein`) to suppress this warning.\n",
      "  warnings.warn(msg)\n",
      "/Users/albertohernandez/opt/anaconda3/lib/python3.9/site-packages/gensim/similarities/__init__.py:15: UserWarning: The gensim.similarities.levenshtein submodule is disabled, because the optional Levenshtein package <https://pypi.org/project/python-Levenshtein/> is unavailable. Install Levenhstein (e.g. `pip install python-Levenshtein`) to suppress this warning.\n",
      "  warnings.warn(msg)\n",
      "/Users/albertohernandez/opt/anaconda3/lib/python3.9/site-packages/gensim/similarities/__init__.py:15: UserWarning: The gensim.similarities.levenshtein submodule is disabled, because the optional Levenshtein package <https://pypi.org/project/python-Levenshtein/> is unavailable. Install Levenhstein (e.g. `pip install python-Levenshtein`) to suppress this warning.\n",
      "  warnings.warn(msg)\n"
     ]
    },
    {
     "name": "stdout",
     "output_type": "stream",
     "text": [
      "Calcuting for 9 topics\n"
     ]
    },
    {
     "name": "stderr",
     "output_type": "stream",
     "text": [
      "/Users/albertohernandez/opt/anaconda3/lib/python3.9/site-packages/gensim/similarities/__init__.py:15: UserWarning: The gensim.similarities.levenshtein submodule is disabled, because the optional Levenshtein package <https://pypi.org/project/python-Levenshtein/> is unavailable. Install Levenhstein (e.g. `pip install python-Levenshtein`) to suppress this warning.\n",
      "  warnings.warn(msg)\n",
      "/Users/albertohernandez/opt/anaconda3/lib/python3.9/site-packages/gensim/similarities/__init__.py:15: UserWarning: The gensim.similarities.levenshtein submodule is disabled, because the optional Levenshtein package <https://pypi.org/project/python-Levenshtein/> is unavailable. Install Levenhstein (e.g. `pip install python-Levenshtein`) to suppress this warning.\n",
      "  warnings.warn(msg)\n",
      "/Users/albertohernandez/opt/anaconda3/lib/python3.9/site-packages/gensim/similarities/__init__.py:15: UserWarning: The gensim.similarities.levenshtein submodule is disabled, because the optional Levenshtein package <https://pypi.org/project/python-Levenshtein/> is unavailable. Install Levenhstein (e.g. `pip install python-Levenshtein`) to suppress this warning.\n",
      "  warnings.warn(msg)\n",
      "/Users/albertohernandez/opt/anaconda3/lib/python3.9/site-packages/gensim/similarities/__init__.py:15: UserWarning: The gensim.similarities.levenshtein submodule is disabled, because the optional Levenshtein package <https://pypi.org/project/python-Levenshtein/> is unavailable. Install Levenhstein (e.g. `pip install python-Levenshtein`) to suppress this warning.\n",
      "  warnings.warn(msg)\n",
      "/Users/albertohernandez/opt/anaconda3/lib/python3.9/site-packages/gensim/similarities/__init__.py:15: UserWarning: The gensim.similarities.levenshtein submodule is disabled, because the optional Levenshtein package <https://pypi.org/project/python-Levenshtein/> is unavailable. Install Levenhstein (e.g. `pip install python-Levenshtein`) to suppress this warning.\n",
      "  warnings.warn(msg)\n",
      "/Users/albertohernandez/opt/anaconda3/lib/python3.9/site-packages/gensim/similarities/__init__.py:15: UserWarning: The gensim.similarities.levenshtein submodule is disabled, because the optional Levenshtein package <https://pypi.org/project/python-Levenshtein/> is unavailable. Install Levenhstein (e.g. `pip install python-Levenshtein`) to suppress this warning.\n",
      "  warnings.warn(msg)\n"
     ]
    },
    {
     "name": "stdout",
     "output_type": "stream",
     "text": [
      "Calcuting for 10 topics\n"
     ]
    },
    {
     "name": "stderr",
     "output_type": "stream",
     "text": [
      "/Users/albertohernandez/opt/anaconda3/lib/python3.9/site-packages/gensim/similarities/__init__.py:15: UserWarning: The gensim.similarities.levenshtein submodule is disabled, because the optional Levenshtein package <https://pypi.org/project/python-Levenshtein/> is unavailable. Install Levenhstein (e.g. `pip install python-Levenshtein`) to suppress this warning.\n",
      "  warnings.warn(msg)\n",
      "/Users/albertohernandez/opt/anaconda3/lib/python3.9/site-packages/gensim/similarities/__init__.py:15: UserWarning: The gensim.similarities.levenshtein submodule is disabled, because the optional Levenshtein package <https://pypi.org/project/python-Levenshtein/> is unavailable. Install Levenhstein (e.g. `pip install python-Levenshtein`) to suppress this warning.\n",
      "  warnings.warn(msg)\n",
      "/Users/albertohernandez/opt/anaconda3/lib/python3.9/site-packages/gensim/similarities/__init__.py:15: UserWarning: The gensim.similarities.levenshtein submodule is disabled, because the optional Levenshtein package <https://pypi.org/project/python-Levenshtein/> is unavailable. Install Levenhstein (e.g. `pip install python-Levenshtein`) to suppress this warning.\n",
      "  warnings.warn(msg)\n",
      "/Users/albertohernandez/opt/anaconda3/lib/python3.9/site-packages/gensim/similarities/__init__.py:15: UserWarning: The gensim.similarities.levenshtein submodule is disabled, because the optional Levenshtein package <https://pypi.org/project/python-Levenshtein/> is unavailable. Install Levenhstein (e.g. `pip install python-Levenshtein`) to suppress this warning.\n",
      "  warnings.warn(msg)\n",
      "/Users/albertohernandez/opt/anaconda3/lib/python3.9/site-packages/gensim/similarities/__init__.py:15: UserWarning: The gensim.similarities.levenshtein submodule is disabled, because the optional Levenshtein package <https://pypi.org/project/python-Levenshtein/> is unavailable. Install Levenhstein (e.g. `pip install python-Levenshtein`) to suppress this warning.\n",
      "  warnings.warn(msg)\n",
      "/Users/albertohernandez/opt/anaconda3/lib/python3.9/site-packages/gensim/similarities/__init__.py:15: UserWarning: The gensim.similarities.levenshtein submodule is disabled, because the optional Levenshtein package <https://pypi.org/project/python-Levenshtein/> is unavailable. Install Levenhstein (e.g. `pip install python-Levenshtein`) to suppress this warning.\n",
      "  warnings.warn(msg)\n"
     ]
    },
    {
     "name": "stdout",
     "output_type": "stream",
     "text": [
      "Calcuting for 11 topics\n"
     ]
    },
    {
     "name": "stderr",
     "output_type": "stream",
     "text": [
      "/Users/albertohernandez/opt/anaconda3/lib/python3.9/site-packages/gensim/similarities/__init__.py:15: UserWarning: The gensim.similarities.levenshtein submodule is disabled, because the optional Levenshtein package <https://pypi.org/project/python-Levenshtein/> is unavailable. Install Levenhstein (e.g. `pip install python-Levenshtein`) to suppress this warning.\n",
      "  warnings.warn(msg)\n",
      "/Users/albertohernandez/opt/anaconda3/lib/python3.9/site-packages/gensim/similarities/__init__.py:15: UserWarning: The gensim.similarities.levenshtein submodule is disabled, because the optional Levenshtein package <https://pypi.org/project/python-Levenshtein/> is unavailable. Install Levenhstein (e.g. `pip install python-Levenshtein`) to suppress this warning.\n",
      "  warnings.warn(msg)\n",
      "/Users/albertohernandez/opt/anaconda3/lib/python3.9/site-packages/gensim/similarities/__init__.py:15: UserWarning: The gensim.similarities.levenshtein submodule is disabled, because the optional Levenshtein package <https://pypi.org/project/python-Levenshtein/> is unavailable. Install Levenhstein (e.g. `pip install python-Levenshtein`) to suppress this warning.\n",
      "  warnings.warn(msg)\n",
      "/Users/albertohernandez/opt/anaconda3/lib/python3.9/site-packages/gensim/similarities/__init__.py:15: UserWarning: The gensim.similarities.levenshtein submodule is disabled, because the optional Levenshtein package <https://pypi.org/project/python-Levenshtein/> is unavailable. Install Levenhstein (e.g. `pip install python-Levenshtein`) to suppress this warning.\n",
      "  warnings.warn(msg)\n",
      "/Users/albertohernandez/opt/anaconda3/lib/python3.9/site-packages/gensim/similarities/__init__.py:15: UserWarning: The gensim.similarities.levenshtein submodule is disabled, because the optional Levenshtein package <https://pypi.org/project/python-Levenshtein/> is unavailable. Install Levenhstein (e.g. `pip install python-Levenshtein`) to suppress this warning.\n",
      "  warnings.warn(msg)\n",
      "/Users/albertohernandez/opt/anaconda3/lib/python3.9/site-packages/gensim/similarities/__init__.py:15: UserWarning: The gensim.similarities.levenshtein submodule is disabled, because the optional Levenshtein package <https://pypi.org/project/python-Levenshtein/> is unavailable. Install Levenhstein (e.g. `pip install python-Levenshtein`) to suppress this warning.\n",
      "  warnings.warn(msg)\n"
     ]
    },
    {
     "name": "stdout",
     "output_type": "stream",
     "text": [
      "Calcuting for 12 topics\n"
     ]
    },
    {
     "name": "stderr",
     "output_type": "stream",
     "text": [
      "/Users/albertohernandez/opt/anaconda3/lib/python3.9/site-packages/gensim/similarities/__init__.py:15: UserWarning: The gensim.similarities.levenshtein submodule is disabled, because the optional Levenshtein package <https://pypi.org/project/python-Levenshtein/> is unavailable. Install Levenhstein (e.g. `pip install python-Levenshtein`) to suppress this warning.\n",
      "  warnings.warn(msg)\n",
      "/Users/albertohernandez/opt/anaconda3/lib/python3.9/site-packages/gensim/similarities/__init__.py:15: UserWarning: The gensim.similarities.levenshtein submodule is disabled, because the optional Levenshtein package <https://pypi.org/project/python-Levenshtein/> is unavailable. Install Levenhstein (e.g. `pip install python-Levenshtein`) to suppress this warning.\n",
      "  warnings.warn(msg)\n",
      "/Users/albertohernandez/opt/anaconda3/lib/python3.9/site-packages/gensim/similarities/__init__.py:15: UserWarning: The gensim.similarities.levenshtein submodule is disabled, because the optional Levenshtein package <https://pypi.org/project/python-Levenshtein/> is unavailable. Install Levenhstein (e.g. `pip install python-Levenshtein`) to suppress this warning.\n",
      "  warnings.warn(msg)\n",
      "/Users/albertohernandez/opt/anaconda3/lib/python3.9/site-packages/gensim/similarities/__init__.py:15: UserWarning: The gensim.similarities.levenshtein submodule is disabled, because the optional Levenshtein package <https://pypi.org/project/python-Levenshtein/> is unavailable. Install Levenhstein (e.g. `pip install python-Levenshtein`) to suppress this warning.\n",
      "  warnings.warn(msg)\n",
      "/Users/albertohernandez/opt/anaconda3/lib/python3.9/site-packages/gensim/similarities/__init__.py:15: UserWarning: The gensim.similarities.levenshtein submodule is disabled, because the optional Levenshtein package <https://pypi.org/project/python-Levenshtein/> is unavailable. Install Levenhstein (e.g. `pip install python-Levenshtein`) to suppress this warning.\n",
      "  warnings.warn(msg)\n",
      "/Users/albertohernandez/opt/anaconda3/lib/python3.9/site-packages/gensim/similarities/__init__.py:15: UserWarning: The gensim.similarities.levenshtein submodule is disabled, because the optional Levenshtein package <https://pypi.org/project/python-Levenshtein/> is unavailable. Install Levenhstein (e.g. `pip install python-Levenshtein`) to suppress this warning.\n",
      "  warnings.warn(msg)\n"
     ]
    },
    {
     "name": "stdout",
     "output_type": "stream",
     "text": [
      "Calcuting for 13 topics\n"
     ]
    },
    {
     "name": "stderr",
     "output_type": "stream",
     "text": [
      "/Users/albertohernandez/opt/anaconda3/lib/python3.9/site-packages/gensim/similarities/__init__.py:15: UserWarning: The gensim.similarities.levenshtein submodule is disabled, because the optional Levenshtein package <https://pypi.org/project/python-Levenshtein/> is unavailable. Install Levenhstein (e.g. `pip install python-Levenshtein`) to suppress this warning.\n",
      "  warnings.warn(msg)\n",
      "/Users/albertohernandez/opt/anaconda3/lib/python3.9/site-packages/gensim/similarities/__init__.py:15: UserWarning: The gensim.similarities.levenshtein submodule is disabled, because the optional Levenshtein package <https://pypi.org/project/python-Levenshtein/> is unavailable. Install Levenhstein (e.g. `pip install python-Levenshtein`) to suppress this warning.\n",
      "  warnings.warn(msg)\n",
      "/Users/albertohernandez/opt/anaconda3/lib/python3.9/site-packages/gensim/similarities/__init__.py:15: UserWarning: The gensim.similarities.levenshtein submodule is disabled, because the optional Levenshtein package <https://pypi.org/project/python-Levenshtein/> is unavailable. Install Levenhstein (e.g. `pip install python-Levenshtein`) to suppress this warning.\n",
      "  warnings.warn(msg)\n",
      "/Users/albertohernandez/opt/anaconda3/lib/python3.9/site-packages/gensim/similarities/__init__.py:15: UserWarning: The gensim.similarities.levenshtein submodule is disabled, because the optional Levenshtein package <https://pypi.org/project/python-Levenshtein/> is unavailable. Install Levenhstein (e.g. `pip install python-Levenshtein`) to suppress this warning.\n",
      "  warnings.warn(msg)\n",
      "/Users/albertohernandez/opt/anaconda3/lib/python3.9/site-packages/gensim/similarities/__init__.py:15: UserWarning: The gensim.similarities.levenshtein submodule is disabled, because the optional Levenshtein package <https://pypi.org/project/python-Levenshtein/> is unavailable. Install Levenhstein (e.g. `pip install python-Levenshtein`) to suppress this warning.\n",
      "  warnings.warn(msg)\n",
      "/Users/albertohernandez/opt/anaconda3/lib/python3.9/site-packages/gensim/similarities/__init__.py:15: UserWarning: The gensim.similarities.levenshtein submodule is disabled, because the optional Levenshtein package <https://pypi.org/project/python-Levenshtein/> is unavailable. Install Levenhstein (e.g. `pip install python-Levenshtein`) to suppress this warning.\n",
      "  warnings.warn(msg)\n"
     ]
    },
    {
     "name": "stdout",
     "output_type": "stream",
     "text": [
      "Calcuting for 14 topics\n"
     ]
    },
    {
     "name": "stderr",
     "output_type": "stream",
     "text": [
      "/Users/albertohernandez/opt/anaconda3/lib/python3.9/site-packages/gensim/similarities/__init__.py:15: UserWarning: The gensim.similarities.levenshtein submodule is disabled, because the optional Levenshtein package <https://pypi.org/project/python-Levenshtein/> is unavailable. Install Levenhstein (e.g. `pip install python-Levenshtein`) to suppress this warning.\n",
      "  warnings.warn(msg)\n",
      "/Users/albertohernandez/opt/anaconda3/lib/python3.9/site-packages/gensim/similarities/__init__.py:15: UserWarning: The gensim.similarities.levenshtein submodule is disabled, because the optional Levenshtein package <https://pypi.org/project/python-Levenshtein/> is unavailable. Install Levenhstein (e.g. `pip install python-Levenshtein`) to suppress this warning.\n",
      "  warnings.warn(msg)\n",
      "/Users/albertohernandez/opt/anaconda3/lib/python3.9/site-packages/gensim/similarities/__init__.py:15: UserWarning: The gensim.similarities.levenshtein submodule is disabled, because the optional Levenshtein package <https://pypi.org/project/python-Levenshtein/> is unavailable. Install Levenhstein (e.g. `pip install python-Levenshtein`) to suppress this warning.\n",
      "  warnings.warn(msg)\n",
      "/Users/albertohernandez/opt/anaconda3/lib/python3.9/site-packages/gensim/similarities/__init__.py:15: UserWarning: The gensim.similarities.levenshtein submodule is disabled, because the optional Levenshtein package <https://pypi.org/project/python-Levenshtein/> is unavailable. Install Levenhstein (e.g. `pip install python-Levenshtein`) to suppress this warning.\n",
      "  warnings.warn(msg)\n",
      "/Users/albertohernandez/opt/anaconda3/lib/python3.9/site-packages/gensim/similarities/__init__.py:15: UserWarning: The gensim.similarities.levenshtein submodule is disabled, because the optional Levenshtein package <https://pypi.org/project/python-Levenshtein/> is unavailable. Install Levenhstein (e.g. `pip install python-Levenshtein`) to suppress this warning.\n",
      "  warnings.warn(msg)\n",
      "/Users/albertohernandez/opt/anaconda3/lib/python3.9/site-packages/gensim/similarities/__init__.py:15: UserWarning: The gensim.similarities.levenshtein submodule is disabled, because the optional Levenshtein package <https://pypi.org/project/python-Levenshtein/> is unavailable. Install Levenhstein (e.g. `pip install python-Levenshtein`) to suppress this warning.\n",
      "  warnings.warn(msg)\n"
     ]
    }
   ],
   "source": [
    "# range of 2 to 15 topics\n",
    "scores = []\n",
    "for i in range(2,15):\n",
    "    print(f'Calcuting for {i} topics')\n",
    "    lda_model = gensim.models.LdaMulticore(corpus=corpus,\n",
    "                                       id2word=id2word,\n",
    "                                       num_topics=i, \n",
    "                                       random_state=42,\n",
    "                                       chunksize=100,\n",
    "                                       passes=10,\n",
    "                                       per_word_topics=True)\n",
    "    # compute the coherence score\n",
    "    coherence_model_lda = CoherenceModel(model=lda_model, \n",
    "                                         texts=lem_ls, \n",
    "                                         dictionary=id2word, \n",
    "                                         coherence='c_v')\n",
    "\n",
    "    # retreive the coherence_scores\n",
    "    coherence_lda = coherence_model_lda.get_coherence()\n",
    "    \n",
    "    scores.append((i,coherence_lda))\n"
   ]
  },
  {
   "cell_type": "code",
   "execution_count": 63,
   "id": "a817f681",
   "metadata": {},
   "outputs": [
    {
     "data": {
      "text/plain": [
       "[(2, 0.30847277617784086),\n",
       " (3, 0.3459117931882636),\n",
       " (4, 0.4283725462703542),\n",
       " (5, 0.4567324292687741),\n",
       " (6, 0.5054262215509322),\n",
       " (7, 0.5264981906306077),\n",
       " (8, 0.4883111476660447),\n",
       " (9, 0.515386672406134),\n",
       " (10, 0.5200405486945853),\n",
       " (11, 0.47948047476513955),\n",
       " (12, 0.5149597243071345),\n",
       " (13, 0.4888705993330795),\n",
       " (14, 0.5585379651371208)]"
      ]
     },
     "execution_count": 63,
     "metadata": {},
     "output_type": "execute_result"
    }
   ],
   "source": [
    "scores"
   ]
  },
  {
   "cell_type": "code",
   "execution_count": 64,
   "id": "64eed156",
   "metadata": {},
   "outputs": [
    {
     "name": "stderr",
     "output_type": "stream",
     "text": [
      "/Users/albertohernandez/opt/anaconda3/lib/python3.9/site-packages/gensim/similarities/__init__.py:15: UserWarning: The gensim.similarities.levenshtein submodule is disabled, because the optional Levenshtein package <https://pypi.org/project/python-Levenshtein/> is unavailable. Install Levenhstein (e.g. `pip install python-Levenshtein`) to suppress this warning.\n",
      "  warnings.warn(msg)\n",
      "/Users/albertohernandez/opt/anaconda3/lib/python3.9/site-packages/gensim/similarities/__init__.py:15: UserWarning: The gensim.similarities.levenshtein submodule is disabled, because the optional Levenshtein package <https://pypi.org/project/python-Levenshtein/> is unavailable. Install Levenhstein (e.g. `pip install python-Levenshtein`) to suppress this warning.\n",
      "  warnings.warn(msg)\n",
      "/Users/albertohernandez/opt/anaconda3/lib/python3.9/site-packages/gensim/similarities/__init__.py:15: UserWarning: The gensim.similarities.levenshtein submodule is disabled, because the optional Levenshtein package <https://pypi.org/project/python-Levenshtein/> is unavailable. Install Levenhstein (e.g. `pip install python-Levenshtein`) to suppress this warning.\n",
      "  warnings.warn(msg)\n"
     ]
    }
   ],
   "source": [
    "bf_lda_model = gensim.models.LdaMulticore(corpus=corpus,\n",
    "                                       id2word=id2word,\n",
    "                                       num_topics=14, \n",
    "                                       random_state=42,\n",
    "                                       chunksize=100,\n",
    "                                       passes=10,\n",
    "                                       per_word_topics=True)"
   ]
  },
  {
   "cell_type": "code",
   "execution_count": 65,
   "id": "6bc1c802",
   "metadata": {},
   "outputs": [
    {
     "name": "stdout",
     "output_type": "stream",
     "text": [
      "[(0, '0.019*\"year\" + 0.016*\"said\" + 0.013*\"sale\" + 0.012*\"market\" + 0.012*\"bn\" + 0.009*\"price\" + 0.008*\"share\" + 0.007*\"last\" + 0.007*\"firm\" + 0.006*\"analyst\"'), (1, '0.020*\"phone\" + 0.019*\"mobile\" + 0.018*\"said\" + 0.013*\"people\" + 0.011*\"service\" + 0.011*\"system\" + 0.009*\"network\" + 0.008*\"could\" + 0.007*\"firm\" + 0.007*\"use\"'), (2, '0.027*\"music\" + 0.019*\"award\" + 0.017*\"best\" + 0.015*\"show\" + 0.015*\"song\" + 0.014*\"band\" + 0.012*\"year\" + 0.012*\"album\" + 0.009*\"artist\" + 0.008*\"singer\"'), (3, '0.016*\"game\" + 0.011*\"said\" + 0.007*\"first\" + 0.007*\"one\" + 0.007*\"time\" + 0.007*\"year\" + 0.006*\"play\" + 0.006*\"win\" + 0.005*\"two\" + 0.005*\"also\"'), (4, '0.022*\"poster\" + 0.022*\"fa\" + 0.021*\"spyware\" + 0.012*\"republic\" + 0.011*\"fiat\" + 0.009*\"israel\" + 0.008*\"switzerland\" + 0.008*\"rover\" + 0.006*\"orchestra\" + 0.006*\"antivirus\"'), (5, '0.029*\"seed\" + 0.017*\"chart\" + 0.009*\"nuclear\" + 0.009*\"project\" + 0.005*\"office\" + 0.005*\"dam\" + 0.005*\"box\" + 0.004*\"sister\" + 0.004*\"sale\" + 0.004*\"three\"'), (6, '0.029*\"said\" + 0.020*\"mr\" + 0.012*\"would\" + 0.007*\"government\" + 0.006*\"say\" + 0.006*\"people\" + 0.006*\"minister\" + 0.005*\"could\" + 0.005*\"told\" + 0.005*\"party\"'), (7, '0.014*\"said\" + 0.014*\"people\" + 0.012*\"technology\" + 0.011*\"user\" + 0.009*\"digital\" + 0.009*\"net\" + 0.008*\"tv\" + 0.007*\"pc\" + 0.007*\"site\" + 0.007*\"online\"'), (8, '0.017*\"said\" + 0.011*\"labour\" + 0.011*\"election\" + 0.010*\"would\" + 0.010*\"brown\" + 0.010*\"tax\" + 0.009*\"mr\" + 0.009*\"year\" + 0.007*\"economy\" + 0.006*\"government\"'), (9, '0.084*\"film\" + 0.026*\"best\" + 0.025*\"award\" + 0.022*\"actor\" + 0.019*\"oscar\" + 0.016*\"director\" + 0.015*\"actress\" + 0.013*\"star\" + 0.012*\"movie\" + 0.010*\"aviator\"'), (10, '0.016*\"edinburgh\" + 0.014*\"mail\" + 0.012*\"site\" + 0.010*\"antivirus\" + 0.008*\"junk\" + 0.008*\"traffic\" + 0.008*\"sun\" + 0.007*\"border\" + 0.006*\"murray\" + 0.006*\"championship\"'), (11, '0.048*\"apple\" + 0.024*\"ipod\" + 0.012*\"mini\" + 0.010*\"mp\" + 0.010*\"firm\" + 0.010*\"job\" + 0.007*\"ebbers\" + 0.006*\"pension\" + 0.005*\"argentina\" + 0.005*\"sullivan\"'), (12, '0.018*\"england\" + 0.014*\"wale\" + 0.013*\"cup\" + 0.013*\"ireland\" + 0.011*\"world\" + 0.011*\"side\" + 0.010*\"champion\" + 0.010*\"france\" + 0.010*\"player\" + 0.010*\"coach\"'), (13, '0.011*\"said\" + 0.010*\"country\" + 0.010*\"bank\" + 0.009*\"china\" + 0.008*\"aid\" + 0.007*\"mr\" + 0.007*\"bn\" + 0.006*\"yukos\" + 0.006*\"world\" + 0.005*\"tsunami\"')]\n"
     ]
    }
   ],
   "source": [
    "# Print the Keyword in the 14 topics\n",
    "print(bf_lda_model.print_topics())"
   ]
  },
  {
   "cell_type": "markdown",
   "id": "414b3cee",
   "metadata": {},
   "source": [
    "An optimal number of 14 topics indicates that the focus of a typical news story is not exclusive, and may incorporate various topics. Additionally, it indicates that the news stories tend to fall into one of these 14 topics. For each topic, the top ten most important words are moderately coherent, with the model receiving a coherence score of .559. Therefore, one can vaguely deduce the meaning of each topic. For example, topic 12 is concerned with a sporting event that involved england, wales, and france. One must examine each word in a topic to infer the overall meaning, since looking at the top word alone does not suffice."
   ]
  },
  {
   "cell_type": "code",
   "execution_count": 67,
   "id": "d6941e0a",
   "metadata": {},
   "outputs": [],
   "source": [
    "# Packages necessary to support the visualization of the topic model\n",
    "import pyLDAvis"
   ]
  },
  {
   "cell_type": "code",
   "execution_count": 69,
   "id": "a333c299",
   "metadata": {},
   "outputs": [],
   "source": [
    "import pyLDAvis.gensim"
   ]
  },
  {
   "cell_type": "code",
   "execution_count": 70,
   "id": "ac31a188",
   "metadata": {},
   "outputs": [
    {
     "name": "stderr",
     "output_type": "stream",
     "text": [
      "/Users/albertohernandez/opt/anaconda3/lib/python3.9/site-packages/past/builtins/misc.py:45: DeprecationWarning: the imp module is deprecated in favour of importlib; see the module's documentation for alternative uses\n",
      "  from imp import reload\n",
      "/Users/albertohernandez/opt/anaconda3/lib/python3.9/site-packages/past/builtins/misc.py:45: DeprecationWarning: the imp module is deprecated in favour of importlib; see the module's documentation for alternative uses\n",
      "  from imp import reload\n",
      "/Users/albertohernandez/opt/anaconda3/lib/python3.9/site-packages/past/builtins/misc.py:45: DeprecationWarning: the imp module is deprecated in favour of importlib; see the module's documentation for alternative uses\n",
      "  from imp import reload\n",
      "/Users/albertohernandez/opt/anaconda3/lib/python3.9/site-packages/past/builtins/misc.py:45: DeprecationWarning: the imp module is deprecated in favour of importlib; see the module's documentation for alternative uses\n",
      "  from imp import reload\n"
     ]
    }
   ],
   "source": [
    "# Visualize the topics\n",
    "pyLDAvis.enable_notebook()\n",
    "LDAvis_prepared = pyLDAvis.gensim.prepare(bf_lda_model, corpus, id2word)"
   ]
  },
  {
   "cell_type": "code",
   "execution_count": 71,
   "id": "246be7c0",
   "metadata": {},
   "outputs": [],
   "source": [
    "# Save the visualization to a html file\n",
    "pyLDAvis.save_html(LDAvis_prepared,'topic_model_visualization.html')"
   ]
  },
  {
   "cell_type": "markdown",
   "id": "4f6fd3da",
   "metadata": {},
   "source": [
    "Based on a visualization of the model, it appears that the 14 topics fall into four groups: economics, sports, technology, and music/film. The majority of the topics fall into the first of these groups. It is also within this group that the most overlap occurs. This overlap might be attribuated to the fact that the topics in these groups contain the same lemmatized words.\n",
    "\n",
    "Overall, the news articles have a high probability of being represented by topic 1 or 2, which seem to deal with a governmental issue in the UK, and a sporting event, respectively."
   ]
  }
 ],
 "metadata": {
  "kernelspec": {
   "display_name": "Python 3 (ipykernel)",
   "language": "python",
   "name": "python3"
  },
  "language_info": {
   "codemirror_mode": {
    "name": "ipython",
    "version": 3
   },
   "file_extension": ".py",
   "mimetype": "text/x-python",
   "name": "python",
   "nbconvert_exporter": "python",
   "pygments_lexer": "ipython3",
   "version": "3.9.7"
  }
 },
 "nbformat": 4,
 "nbformat_minor": 5
}
